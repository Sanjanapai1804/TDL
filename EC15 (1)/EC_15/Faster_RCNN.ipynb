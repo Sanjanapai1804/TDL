{
 "cells": [
  {
   "cell_type": "code",
   "execution_count": 1,
   "id": "da2f9051",
   "metadata": {
    "execution": {
     "iopub.execute_input": "2023-04-21T14:27:35.790414Z",
     "iopub.status.busy": "2023-04-21T14:27:35.789630Z",
     "iopub.status.idle": "2023-04-21T14:27:35.922297Z",
     "shell.execute_reply": "2023-04-21T14:27:35.921191Z"
    },
    "papermill": {
     "duration": 0.154217,
     "end_time": "2023-04-21T14:27:35.931398",
     "exception": false,
     "start_time": "2023-04-21T14:27:35.777181",
     "status": "completed"
    },
    "tags": []
   },
   "outputs": [
    {
     "name": "stdout",
     "output_type": "stream",
     "text": [
      "/kaggle/input/images-tdl/final_csv.csv\n",
      "/kaggle/input/samplepesu/Training Dataset_csv/V_HELICOPTER_038_LABELS.csv\n",
      "/kaggle/input/samplepesu/Training Dataset_csv/V_HELICOPTER_017_LABELS.csv\n",
      "/kaggle/input/samplepesu/Training Dataset_csv/V_DRONE_025_LABELS.csv\n",
      "/kaggle/input/samplepesu/Training Dataset_csv/V_DRONE_073_LABELS.csv\n",
      "/kaggle/input/samplepesu/Training Dataset_csv/V_BIRD_007_LABELS.csv\n",
      "/kaggle/input/samplepesu/Training Dataset_csv/V_HELICOPTER_012_LABELS.csv\n",
      "/kaggle/input/samplepesu/Training Dataset_csv/V_AIRPLANE_041_LABELS.csv\n",
      "/kaggle/input/samplepesu/Training Dataset_csv/V_HELICOPTER_033_LABELS.csv\n",
      "/kaggle/input/samplepesu/Training Dataset_csv/V_BIRD_001_LABELS.csv\n",
      "/kaggle/input/samplepesu/Training Dataset_csv/V_DRONE_051_LABELS.csv\n",
      "/kaggle/input/samplepesu/Training Dataset_csv/V_DRONE_069_LABELS.csv\n",
      "/kaggle/input/samplepesu/Training Dataset_csv/V_DRONE_043_LABELS.csv\n",
      "/kaggle/input/samplepesu/Training Dataset_csv/V_DRONE_074_LABELS.csv\n",
      "/kaggle/input/samplepesu/Training Dataset_csv/V_DRONE_008_LABELS.csv\n",
      "/kaggle/input/samplepesu/Training Dataset_csv/V_DRONE_028_LABELS.csv\n",
      "/kaggle/input/samplepesu/Training Dataset_csv/V_DRONE_088_LABELS.csv\n",
      "/kaggle/input/samplepesu/Training Dataset_csv/V_DRONE_015_LABELS.csv\n",
      "/kaggle/input/samplepesu/Training Dataset_csv/V_DRONE_064_LABELS.csv\n",
      "/kaggle/input/samplepesu/Training Dataset_csv/V_HELICOPTER_058_LABELS.csv\n",
      "/kaggle/input/samplepesu/Training Dataset_csv/V_BIRD_008_LABELS.csv\n",
      "/kaggle/input/samplepesu/Training Dataset_csv/V_BIRD_012_LABELS.csv\n",
      "/kaggle/input/samplepesu/Training Dataset_csv/V_HELICOPTER_031_LABELS.csv\n",
      "/kaggle/input/samplepesu/Training Dataset_csv/V_HELICOPTER_051_LABELS.csv\n",
      "/kaggle/input/samplepesu/Training Dataset_csv/V_DRONE_003_LABELS.csv\n",
      "/kaggle/input/samplepesu/Training Dataset_csv/V_DRONE_087_LABELS.csv\n",
      "/kaggle/input/samplepesu/Training Dataset_csv/V_HELICOPTER_043_LABELS.csv\n",
      "/kaggle/input/samplepesu/Training Dataset_csv/V_DRONE_086_LABELS.csv\n",
      "/kaggle/input/samplepesu/Training Dataset_csv/V_BIRD_021_LABELS.csv\n",
      "/kaggle/input/samplepesu/Training Dataset_csv/V_AIRPLANE_042_LABELS.csv\n",
      "/kaggle/input/samplepesu/Training Dataset_csv/V_AIRPLANE_043_LABELS.csv\n",
      "/kaggle/input/samplepesu/Training Dataset_csv/V_BIRD_035_LABELS.csv\n",
      "/kaggle/input/samplepesu/Training Dataset_csv/V_HELICOPTER_027_LABELS.csv\n",
      "/kaggle/input/samplepesu/Training Dataset_csv/V_HELICOPTER_005_LABELS.csv\n",
      "/kaggle/input/samplepesu/Training Dataset_csv/V_DRONE_072_LABELS.csv\n",
      "/kaggle/input/samplepesu/Training Dataset_csv/V_HELICOPTER_053_LABELS.csv\n",
      "/kaggle/input/samplepesu/Training Dataset_csv/V_BIRD_017_LABELS.csv\n",
      "/kaggle/input/samplepesu/Training Dataset_csv/V_DRONE_014_LABELS.csv\n",
      "/kaggle/input/samplepesu/Training Dataset_csv/V_DRONE_054_LABELS.csv\n",
      "/kaggle/input/samplepesu/Training Dataset_csv/V_HELICOPTER_055_LABELS.csv\n",
      "/kaggle/input/samplepesu/Training Dataset_csv/V_BIRD_030_LABELS.csv\n",
      "/kaggle/input/samplepesu/Training Dataset_csv/V_BIRD_024_LABELS.csv\n",
      "/kaggle/input/samplepesu/Training Dataset_csv/V_HELICOPTER_041_LABELS.csv\n",
      "/kaggle/input/samplepesu/Training Dataset_csv/V_AIRPLANE_059_LABELS.csv\n",
      "/kaggle/input/samplepesu/Training Dataset_csv/V_DRONE_089_LABELS.csv\n",
      "/kaggle/input/samplepesu/Training Dataset_csv/V_DRONE_067_LABELS.csv\n",
      "/kaggle/input/samplepesu/Training Dataset_csv/V_DRONE_010_LABELS.csv\n",
      "/kaggle/input/samplepesu/Training Dataset_csv/V_DRONE_068_LABELS.csv\n",
      "/kaggle/input/samplepesu/Training Dataset_csv/V_AIRPLANE_001_LABELS.csv\n",
      "/kaggle/input/samplepesu/Training Dataset_csv/V_HELICOPTER_046_LABELS.csv\n",
      "/kaggle/input/samplepesu/Training Dataset_csv/V_DRONE_083_LABELS.csv\n",
      "/kaggle/input/samplepesu/Training Dataset_csv/V_DRONE_082_LABELS.csv\n",
      "/kaggle/input/samplepesu/Training Dataset_csv/V_DRONE_059_LABELS.csv\n",
      "/kaggle/input/samplepesu/Training Dataset_csv/V_DRONE_001_LABELS.csv\n",
      "/kaggle/input/samplepesu/Training Dataset_csv/V_HELICOPTER_014_LABELS.csv\n",
      "/kaggle/input/samplepesu/Training Dataset_csv/V_BIRD_005_LABELS.csv\n",
      "/kaggle/input/samplepesu/Training Dataset_csv/V_HELICOPTER_050_LABELS.csv\n",
      "/kaggle/input/samplepesu/Training Dataset_csv/V_HELICOPTER_042_LABELS.csv\n",
      "/kaggle/input/samplepesu/Training Dataset_csv/V_AIRPLANE_021_LABELS.csv\n",
      "/kaggle/input/samplepesu/Training Dataset_csv/V_BIRD_018_LABELS.csv\n",
      "/kaggle/input/samplepesu/Training Dataset_csv/V_DRONE_046_LABELS.csv\n",
      "/kaggle/input/samplepesu/Training Dataset_csv/V_AIRPLANE_014_LABELS.csv\n",
      "/kaggle/input/samplepesu/Training Dataset_csv/V_HELICOPTER_040_LABELS.csv\n",
      "/kaggle/input/samplepesu/Training Dataset_csv/V_AIRPLANE_045_LABELS.csv\n",
      "/kaggle/input/samplepesu/Training Dataset_csv/V_DRONE_080_LABELS.csv\n",
      "/kaggle/input/samplepesu/Training Dataset_csv/V_DRONE_076_LABELS.csv\n",
      "/kaggle/input/samplepesu/Training Dataset_csv/V_BIRD_029_LABELS.csv\n",
      "/kaggle/input/samplepesu/Training Dataset_csv/V_AIRPLANE_015_LABELS.csv\n",
      "/kaggle/input/samplepesu/Training Dataset_csv/V_DRONE_021_LABELS.csv\n",
      "/kaggle/input/samplepesu/Training Dataset_csv/V_HELICOPTER_010_LABELS.csv\n",
      "/kaggle/input/samplepesu/Training Dataset_csv/V_DRONE_071_LABELS.csv\n",
      "/kaggle/input/samplepesu/Training Dataset_csv/V_DRONE_022_LABELS.csv\n",
      "/kaggle/input/samplepesu/Training Dataset_csv/V_BIRD_037_LABELS.csv\n",
      "/kaggle/input/samplepesu/Training Dataset_csv/V_DRONE_045_LABELS.csv\n",
      "/kaggle/input/samplepesu/Training Dataset_csv/V_BIRD_039_LABELS.csv\n",
      "/kaggle/input/samplepesu/Training Dataset_csv/V_HELICOPTER_057_LABELS.csv\n",
      "/kaggle/input/samplepesu/Training Dataset_csv/V_DRONE_099_LABELS.csv\n",
      "/kaggle/input/samplepesu/Training Dataset_csv/V_DRONE_108_LABELS.csv\n",
      "/kaggle/input/samplepesu/Training Dataset_csv/V_AIRPLANE_008_LABELS.csv\n",
      "/kaggle/input/samplepesu/Training Dataset_csv/V_DRONE_048_LABELS.csv\n",
      "/kaggle/input/samplepesu/Training Dataset_csv/V_DRONE_093_LABELS.csv\n",
      "/kaggle/input/samplepesu/Training Dataset_csv/V_DRONE_053_LABELS.csv\n",
      "/kaggle/input/samplepesu/Training Dataset_csv/V_AIRPLANE_056_LABELS.csv\n",
      "/kaggle/input/samplepesu/Training Dataset_csv/V_AIRPLANE_022_LABELS.csv\n",
      "/kaggle/input/samplepesu/Training Dataset_csv/V_DRONE_104_LABELS.csv\n",
      "/kaggle/input/samplepesu/Training Dataset_csv/V_HELICOPTER_052_LABELS.csv\n",
      "/kaggle/input/samplepesu/Training Dataset_csv/V_HELICOPTER_060_LABELS.csv\n",
      "/kaggle/input/samplepesu/Training Dataset_csv/V_DRONE_023_LABELS.csv\n",
      "/kaggle/input/samplepesu/Training Dataset_csv/V_BIRD_019_LABELS.csv\n",
      "/kaggle/input/samplepesu/Training Dataset_csv/V_HELICOPTER_023_LABELS.csv\n",
      "/kaggle/input/samplepesu/Training Dataset_csv/V_HELICOPTER_025_LABELS.csv\n",
      "/kaggle/input/samplepesu/Training Dataset_csv/V_DRONE_078_LABELS.csv\n",
      "/kaggle/input/samplepesu/Training Dataset_csv/V_DRONE_009_LABELS.csv\n",
      "/kaggle/input/samplepesu/Training Dataset_csv/V_HELICOPTER_015_LABELS.csv\n",
      "/kaggle/input/samplepesu/Training Dataset_csv/V_HELICOPTER_001_LABELS.csv\n",
      "/kaggle/input/samplepesu/Training Dataset_csv/V_BIRD_025_LABELS.csv\n",
      "/kaggle/input/samplepesu/Training Dataset_csv/V_DRONE_106_LABELS.csv\n",
      "/kaggle/input/samplepesu/Training Dataset_csv/V_DRONE_044_LABELS.csv\n",
      "/kaggle/input/samplepesu/Training Dataset_csv/V_DRONE_035_LABELS.csv\n",
      "/kaggle/input/samplepesu/Training Dataset_csv/V_AIRPLANE_003_LABELS.csv\n",
      "/kaggle/input/samplepesu/Training Dataset_csv/V_HELICOPTER_008_LABELS.csv\n",
      "/kaggle/input/samplepesu/Training Dataset_csv/V_HELICOPTER_039_LABELS.csv\n",
      "/kaggle/input/samplepesu/Training Dataset_csv/V_DRONE_057_LABELS.csv\n",
      "/kaggle/input/samplepesu/Training Dataset_csv/V_BIRD_041_LABELS.csv\n",
      "/kaggle/input/samplepesu/Training Dataset_csv/V_AIRPLANE_019_LABELS.csv\n",
      "/kaggle/input/samplepesu/Training Dataset_csv/V_DRONE_024_LABELS.csv\n",
      "/kaggle/input/samplepesu/Training Dataset_csv/V_HELICOPTER_019_LABELS.csv\n",
      "/kaggle/input/samplepesu/Training Dataset_csv/V_AIRPLANE_036_LABELS.csv\n",
      "/kaggle/input/samplepesu/Training Dataset_csv/V_DRONE_070_LABELS.csv\n",
      "/kaggle/input/samplepesu/Training Dataset_csv/V_BIRD_015_LABELS.csv\n",
      "/kaggle/input/samplepesu/Training Dataset_csv/V_DRONE_050_LABELS.csv\n",
      "/kaggle/input/samplepesu/Training Dataset_csv/V_DRONE_103_LABELS.csv\n",
      "/kaggle/input/samplepesu/Training Dataset_csv/V_DRONE_012_LABELS.csv\n",
      "/kaggle/input/samplepesu/Training Dataset_csv/V_DRONE_105_LABELS.csv\n",
      "/kaggle/input/samplepesu/Training Dataset_csv/V_DRONE_039_LABELS.csv\n",
      "/kaggle/input/samplepesu/Training Dataset_csv/V_HELICOPTER_026_LABELS.csv\n",
      "/kaggle/input/samplepesu/Training Dataset_csv/V_HELICOPTER_011_LABELS.csv\n",
      "/kaggle/input/samplepesu/Training Dataset_csv/V_DRONE_114_LABELS.csv\n",
      "/kaggle/input/samplepesu/Training Dataset_csv/V_BIRD_036_LABELS.csv\n",
      "/kaggle/input/samplepesu/Training Dataset_csv/V_DRONE_081_LABELS.csv\n",
      "/kaggle/input/samplepesu/Training Dataset_csv/V_BIRD_002_LABELS.csv\n",
      "/kaggle/input/samplepesu/Training Dataset_csv/V_HELICOPTER_056_LABELS.csv\n",
      "/kaggle/input/samplepesu/Training Dataset_csv/V_DRONE_066_LABELS.csv\n",
      "/kaggle/input/samplepesu/Training Dataset_csv/V_HELICOPTER_032_LABELS.csv\n",
      "/kaggle/input/samplepesu/Training Dataset_csv/V_AIRPLANE_023_LABELS.csv\n",
      "/kaggle/input/samplepesu/Training Dataset_csv/V_HELICOPTER_018_LABELS.csv\n",
      "/kaggle/input/samplepesu/Training Dataset_csv/V_HELICOPTER_047_LABELS.csv\n",
      "/kaggle/input/samplepesu/Training Dataset_csv/V_AIRPLANE_034_LABELS.csv\n",
      "/kaggle/input/samplepesu/Training Dataset_csv/V_AIRPLANE_040_LABELS.csv\n",
      "/kaggle/input/samplepesu/Training Dataset_csv/V_DRONE_004_LABELS.csv\n",
      "/kaggle/input/samplepesu/Training Dataset_csv/V_DRONE_007_LABELS.csv\n",
      "/kaggle/input/samplepesu/Training Dataset_csv/V_HELICOPTER_009_LABELS.csv\n",
      "/kaggle/input/samplepesu/Training Dataset_csv/V_HELICOPTER_022_LABELS.csv\n",
      "/kaggle/input/samplepesu/Training Dataset_csv/V_DRONE_102_LABELS.csv\n",
      "/kaggle/input/samplepesu/Training Dataset_csv/V_BIRD_033_LABELS.csv\n",
      "/kaggle/input/samplepesu/Training Dataset_csv/V_DRONE_052_LABELS.csv\n",
      "/kaggle/input/samplepesu/Training Dataset_csv/V_HELICOPTER_034_LABELS.csv\n",
      "/kaggle/input/samplepesu/Training Dataset_csv/V_AIRPLANE_057_LABELS.csv\n",
      "/kaggle/input/samplepesu/Training Dataset_csv/V_DRONE_110_LABELS.csv\n",
      "/kaggle/input/samplepesu/Training Dataset_csv/V_DRONE_097_LABELS.csv\n",
      "/kaggle/input/samplepesu/Training Dataset_csv/V_DRONE_036_LABELS.csv\n",
      "/kaggle/input/samplepesu/Training Dataset_csv/V_DRONE_096_LABELS.csv\n",
      "/kaggle/input/samplepesu/Training Dataset_csv/V_DRONE_030_LABELS.csv\n",
      "/kaggle/input/samplepesu/Training Dataset_csv/V_HELICOPTER_054_LABELS.csv\n",
      "/kaggle/input/samplepesu/Training Dataset_csv/V_AIRPLANE_024_LABELS.csv\n",
      "/kaggle/input/samplepesu/Training Dataset_csv/V_DRONE_032_LABELS.csv\n",
      "/kaggle/input/samplepesu/Training Dataset_csv/V_HELICOPTER_059_LABELS.csv\n",
      "/kaggle/input/samplepesu/Training Dataset_csv/V_DRONE_019_LABELS.csv\n",
      "/kaggle/input/samplepesu/Training Dataset_csv/V_DRONE_031_LABELS.csv\n",
      "/kaggle/input/samplepesu/Training Dataset_csv/V_DRONE_056_LABELS.csv\n",
      "/kaggle/input/samplepesu/Training Dataset_csv/V_HELICOPTER_035_LABELS.csv\n",
      "/kaggle/input/samplepesu/Training Dataset_csv/V_BIRD_032_LABELS.csv\n",
      "/kaggle/input/samplepesu/Training Dataset_csv/V_AIRPLANE_025_LABELS.csv\n",
      "/kaggle/input/samplepesu/Training Dataset_csv/V_AIRPLANE_010_LABELS.csv\n",
      "/kaggle/input/samplepesu/Training Dataset_csv/V_HELICOPTER_030_LABELS.csv\n",
      "/kaggle/input/samplepesu/Training Dataset_csv/V_BIRD_009_LABELS.csv\n",
      "/kaggle/input/samplepesu/Training Dataset_csv/V_HELICOPTER_029_LABELS.csv\n",
      "/kaggle/input/samplepesu/Training Dataset_csv/V_BIRD_013_LABELS.csv\n",
      "/kaggle/input/samplepesu/Training Dataset_csv/V_AIRPLANE_027_LABELS.csv\n",
      "/kaggle/input/samplepesu/Training Dataset_csv/V_HELICOPTER_013_LABELS.csv\n",
      "/kaggle/input/samplepesu/Training Dataset_csv/V_DRONE_002_LABELS.csv\n",
      "/kaggle/input/samplepesu/Training Dataset_csv/V_BIRD_042_LABELS.csv\n",
      "/kaggle/input/samplepesu/Training Dataset_csv/V_BIRD_044_LABELS.csv\n",
      "/kaggle/input/samplepesu/Training Dataset_csv/V_BIRD_045_LABELS.csv\n",
      "/kaggle/input/samplepesu/Training Dataset_csv/V_AIRPLANE_054_LABELS.csv\n",
      "/kaggle/input/samplepesu/Training Dataset_csv/V_AIRPLANE_006_LABELS.csv\n",
      "/kaggle/input/samplepesu/Training Dataset_csv/V_BIRD_011_LABELS.csv\n",
      "/kaggle/input/samplepesu/Training Dataset_csv/V_DRONE_065_LABELS.csv\n",
      "/kaggle/input/samplepesu/Training Dataset_csv/V_AIRPLANE_046_LABELS.csv\n",
      "/kaggle/input/samplepesu/Training Dataset_csv/V_AIRPLANE_012_LABELS.csv\n",
      "/kaggle/input/samplepesu/Training Dataset_csv/V_AIRPLANE_030_LABELS.csv\n",
      "/kaggle/input/samplepesu/Training Dataset_csv/V_BIRD_031_LABELS.csv\n",
      "/kaggle/input/samplepesu/Training Dataset_csv/V_DRONE_063_LABELS.csv\n",
      "/kaggle/input/samplepesu/Training Dataset_csv/V_BIRD_020_LABELS.csv\n",
      "/kaggle/input/samplepesu/Training Dataset_csv/V_DRONE_037_LABELS.csv\n",
      "/kaggle/input/samplepesu/Training Dataset_csv/V_DRONE_075_LABELS.csv\n",
      "/kaggle/input/samplepesu/Training Dataset_csv/V_BIRD_034_LABELS.csv\n",
      "/kaggle/input/samplepesu/Training Dataset_csv/V_DRONE_027_LABELS.csv\n",
      "/kaggle/input/samplepesu/Training Dataset_csv/V_HELICOPTER_037_LABELS.csv\n",
      "/kaggle/input/samplepesu/Training Dataset_csv/V_BIRD_006_LABELS.csv\n",
      "/kaggle/input/samplepesu/Training Dataset_csv/V_DRONE_090_LABELS.csv\n",
      "/kaggle/input/samplepesu/Training Dataset_csv/V_DRONE_113_LABELS.csv\n",
      "/kaggle/input/samplepesu/Training Dataset_csv/V_BIRD_048_LABELS.csv\n",
      "/kaggle/input/samplepesu/Training Dataset_csv/V_DRONE_029_LABELS.csv\n",
      "/kaggle/input/samplepesu/Training Dataset_csv/V_HELICOPTER_007_LABELS.csv\n",
      "/kaggle/input/samplepesu/Training Dataset_csv/V_DRONE_047_LABELS.csv\n",
      "/kaggle/input/samplepesu/Training Dataset_csv/V_AIRPLANE_055_LABELS.csv\n",
      "/kaggle/input/samplepesu/Training Dataset_csv/V_DRONE_011_LABELS.csv\n",
      "/kaggle/input/samplepesu/Training Dataset_csv/V_DRONE_026_LABELS.csv\n",
      "/kaggle/input/samplepesu/Training Dataset_csv/V_BIRD_049_LABELS.csv\n",
      "/kaggle/input/samplepesu/Training Dataset_csv/V_HELICOPTER_028_LABELS.csv\n",
      "/kaggle/input/samplepesu/Training Dataset_csv/V_BIRD_051_LABELS.csv\n",
      "/kaggle/input/samplepesu/Training Dataset_csv/V_DRONE_005_LABELS.csv\n",
      "/kaggle/input/samplepesu/Training Dataset_csv/V_DRONE_077_LABELS.csv\n",
      "/kaggle/input/samplepesu/Training Dataset_csv/V_DRONE_095_LABELS.csv\n",
      "/kaggle/input/samplepesu/Training Dataset_csv/V_BIRD_050_LABELS.csv\n",
      "/kaggle/input/samplepesu/Training Dataset_csv/V_DRONE_079_LABELS.csv\n",
      "/kaggle/input/samplepesu/Training Dataset_csv/V_HELICOPTER_004_LABELS.csv\n",
      "/kaggle/input/samplepesu/Training Dataset_csv/V_DRONE_084_LABELS.csv\n",
      "/kaggle/input/samplepesu/Training Dataset_csv/V_AIRPLANE_031_LABELS.csv\n",
      "/kaggle/input/samplepesu/Training Dataset_csv/V_BIRD_004_LABELS.csv\n",
      "/kaggle/input/samplepesu/Training Dataset_csv/V_DRONE_049_LABELS.csv\n",
      "/kaggle/input/samplepesu/Training Dataset_csv/V_AIRPLANE_005_LABELS.csv\n",
      "/kaggle/input/samplepesu/Training Dataset_csv/V_AIRPLANE_035_LABELS.csv\n",
      "/kaggle/input/samplepesu/Training Dataset_csv/V_DRONE_060_LABELS.csv\n",
      "/kaggle/input/samplepesu/Training Dataset_csv/V_AIRPLANE_017_LABELS.csv\n",
      "/kaggle/input/samplepesu/Training Dataset_csv/V_DRONE_055_LABELS.csv\n",
      "/kaggle/input/samplepesu/Training Dataset_csv/V_HELICOPTER_036_LABELS.csv\n",
      "/kaggle/input/samplepesu/Training Dataset_csv/V_AIRPLANE_033_LABELS.csv\n",
      "/kaggle/input/samplepesu/Training Dataset_csv/V_DRONE_017_LABELS.csv\n",
      "/kaggle/input/samplepesu/Training Dataset_csv/V_DRONE_112_LABELS.csv\n",
      "/kaggle/input/samplepesu/Training Dataset_csv/V_AIRPLANE_002_LABELS.csv\n",
      "/kaggle/input/samplepesu/Training Dataset_csv/V_HELICOPTER_003_LABELS.csv\n",
      "/kaggle/input/samplepesu/Training Dataset_csv/V_DRONE_092_LABELS.csv\n",
      "/kaggle/input/samplepesu/Training Dataset_csv/V_AIRPLANE_004_LABELS.csv\n",
      "/kaggle/input/samplepesu/Training Dataset_csv/V_DRONE_018_LABELS.csv\n",
      "/kaggle/input/samplepesu/Training Dataset_csv/V_AIRPLANE_047_LABELS.csv\n",
      "/kaggle/input/samplepesu/Training Dataset_csv/V_HELICOPTER_048_LABELS.csv\n",
      "/kaggle/input/samplepesu/Training Dataset_csv/V_HELICOPTER_002_LABELS.csv\n",
      "/kaggle/input/samplepesu/Training Dataset_csv/V_HELICOPTER_020_LABELS.csv\n",
      "/kaggle/input/samplepesu/Training Dataset_csv/V_AIRPLANE_011_LABELS.csv\n",
      "/kaggle/input/samplepesu/Training Dataset_csv/V_AIRPLANE_020_LABELS.csv\n",
      "/kaggle/input/samplepesu/Training Dataset_csv/V_AIRPLANE_049_LABELS.csv\n",
      "/kaggle/input/samplepesu/Training Dataset_csv/V_DRONE_107_LABELS.csv\n",
      "/kaggle/input/samplepesu/Training Dataset_csv/V_AIRPLANE_058_LABELS.csv\n",
      "/kaggle/input/samplepesu/Training Dataset_csv/V_DRONE_042_LABELS.csv\n",
      "/kaggle/input/samplepesu/Training Dataset_csv/V_BIRD_003_LABELS.csv\n",
      "/kaggle/input/samplepesu/Training Dataset_csv/V_HELICOPTER_021_LABELS.csv\n",
      "/kaggle/input/samplepesu/Training Dataset_csv/V_DRONE_098_LABELS.csv\n",
      "/kaggle/input/samplepesu/Training Dataset_csv/V_BIRD_023_LABELS.csv\n",
      "/kaggle/input/samplepesu/Training Dataset_csv/V_AIRPLANE_009_LABELS.csv\n",
      "/kaggle/input/samplepesu/Training Dataset_csv/V_DRONE_085_LABELS.csv\n",
      "/kaggle/input/samplepesu/Training Dataset_csv/V_AIRPLANE_038_LABELS.csv\n",
      "/kaggle/input/samplepesu/Training Dataset_csv/V_DRONE_058_LABELS.csv\n",
      "/kaggle/input/samplepesu/Training Dataset_csv/V_DRONE_100_LABELS.csv\n",
      "/kaggle/input/samplepesu/Training Dataset_csv/V_AIRPLANE_026_LABELS.csv\n",
      "/kaggle/input/samplepesu/Training Dataset_csv/V_DRONE_006_LABELS.csv\n",
      "/kaggle/input/samplepesu/Training Dataset_csv/V_AIRPLANE_039_LABELS.csv\n",
      "/kaggle/input/samplepesu/Training Dataset_csv/V_AIRPLANE_050_LABELS.csv\n",
      "/kaggle/input/samplepesu/Training Dataset_csv/V_BIRD_040_LABELS.csv\n",
      "/kaggle/input/samplepesu/Training Dataset_csv/V_DRONE_016_LABELS.csv\n",
      "/kaggle/input/samplepesu/Training Dataset_csv/V_AIRPLANE_029_LABELS.csv\n",
      "/kaggle/input/samplepesu/Training Dataset_csv/V_AIRPLANE_051_LABELS.csv\n",
      "/kaggle/input/samplepesu/Training Dataset_csv/V_BIRD_014_LABELS.csv\n",
      "/kaggle/input/samplepesu/Training Dataset_csv/V_AIRPLANE_048_LABELS.csv\n",
      "/kaggle/input/samplepesu/Training Dataset_csv/V_AIRPLANE_028_LABELS.csv\n",
      "/kaggle/input/samplepesu/Training Dataset_csv/V_AIRPLANE_052_LABELS.csv\n",
      "/kaggle/input/samplepesu/Training Dataset_csv/V_BIRD_010_LABELS.csv\n",
      "/kaggle/input/samplepesu/Training Dataset_csv/V_DRONE_034_LABELS.csv\n",
      "/kaggle/input/samplepesu/Training Dataset_csv/V_BIRD_027_LABELS.csv\n",
      "/kaggle/input/samplepesu/Training Dataset_csv/V_DRONE_033_LABELS.csv\n",
      "/kaggle/input/samplepesu/Training Dataset_csv/V_AIRPLANE_013_LABELS.csv\n",
      "/kaggle/input/samplepesu/Training Dataset_csv/V_AIRPLANE_007_LABELS.csv\n",
      "/kaggle/input/samplepesu/Training Dataset_csv/V_DRONE_094_LABELS.csv\n",
      "/kaggle/input/samplepesu/Training Dataset_csv/V_DRONE_091_LABELS.csv\n",
      "/kaggle/input/samplepesu/Training Dataset_csv/V_BIRD_046_LABELS.csv\n",
      "/kaggle/input/samplepesu/Training Dataset_csv/V_AIRPLANE_053_LABELS.csv\n",
      "/kaggle/input/samplepesu/Training Dataset_csv/V_HELICOPTER_024_LABELS.csv\n",
      "/kaggle/input/samplepesu/Training Dataset_csv/V_BIRD_016_LABELS.csv\n",
      "/kaggle/input/samplepesu/Training Dataset_csv/V_DRONE_020_LABELS.csv\n",
      "/kaggle/input/samplepesu/Training Dataset_csv/V_BIRD_047_LABELS.csv\n",
      "/kaggle/input/samplepesu/Training Dataset_csv/V_AIRPLANE_032_LABELS.csv\n",
      "/kaggle/input/samplepesu/Training Dataset_csv/V_DRONE_062_LABELS.csv\n",
      "/kaggle/input/samplepesu/Training Dataset_csv/V_DRONE_101_LABELS.csv\n",
      "/kaggle/input/samplepesu/Training Dataset_csv/V_AIRPLANE_018_LABELS.csv\n",
      "/kaggle/input/samplepesu/Training Dataset_csv/V_AIRPLANE_044_LABELS.csv\n",
      "/kaggle/input/samplepesu/Training Dataset_csv/V_BIRD_043_LABELS.csv\n",
      "/kaggle/input/samplepesu/Training Dataset_csv/V_BIRD_022_LABELS.csv\n",
      "/kaggle/input/samplepesu/Training Dataset_csv/V_HELICOPTER_061_LABELS.csv\n",
      "/kaggle/input/samplepesu/Training Dataset_csv/V_HELICOPTER_006_LABELS.csv\n",
      "/kaggle/input/samplepesu/Training Dataset_csv/V_DRONE_061_LABELS.csv\n",
      "/kaggle/input/samplepesu/Training Dataset_csv/V_AIRPLANE_016_LABELS.csv\n",
      "/kaggle/input/samplepesu/Training Dataset_csv/V_DRONE_013_LABELS.csv\n",
      "/kaggle/input/samplepesu/Training Dataset_csv/V_DRONE_038_LABELS.csv\n",
      "/kaggle/input/samplepesu/Training Dataset_csv/V_BIRD_028_LABELS.csv\n",
      "/kaggle/input/samplepesu/Training Dataset_csv/V_HELICOPTER_016_LABELS.csv\n",
      "/kaggle/input/samplepesu/Training Dataset_csv/V_DRONE_041_LABELS.csv\n",
      "/kaggle/input/samplepesu/Training Dataset_csv/V_HELICOPTER_044_LABELS.csv\n",
      "/kaggle/input/samplepesu/Training Dataset_csv/V_BIRD_026_LABELS.csv\n",
      "/kaggle/input/samplepesu/Training Dataset_csv/V_DRONE_109_LABELS.csv\n",
      "/kaggle/input/samplepesu/Training Dataset_csv/V_HELICOPTER_049_LABELS.csv\n",
      "/kaggle/input/samplepesu/Training Dataset_Videos/V_DRONE_022.mp4\n",
      "/kaggle/input/samplepesu/Training Dataset_Videos/V_DRONE_011.mp4\n",
      "/kaggle/input/samplepesu/Training Dataset_Videos/V_DRONE_023.mp4\n",
      "/kaggle/input/samplepesu/Training Dataset_Videos/V_BIRD_034.mp4\n",
      "/kaggle/input/samplepesu/Training Dataset_Videos/V_HELICOPTER_041.mp4\n",
      "/kaggle/input/samplepesu/Training Dataset_Videos/V_DRONE_046.mp4\n",
      "/kaggle/input/samplepesu/Training Dataset_Videos/V_DRONE_063.mp4\n",
      "/kaggle/input/samplepesu/Training Dataset_Videos/V_HELICOPTER_050.mp4\n",
      "/kaggle/input/samplepesu/Training Dataset_Videos/V_BIRD_029.mp4\n",
      "/kaggle/input/samplepesu/Training Dataset_Videos/V_HELICOPTER_014.mp4\n",
      "/kaggle/input/samplepesu/Training Dataset_Videos/V_AIRPLANE_044.mp4\n",
      "/kaggle/input/samplepesu/Training Dataset_Videos/V_HELICOPTER_035.mp4\n",
      "/kaggle/input/samplepesu/Training Dataset_Videos/V_HELICOPTER_009.mp4\n",
      "/kaggle/input/samplepesu/Training Dataset_Videos/V_DRONE_024.mp4\n",
      "/kaggle/input/samplepesu/Training Dataset_Videos/V_DRONE_060.mp4\n",
      "/kaggle/input/samplepesu/Training Dataset_Videos/V_BIRD_037.mp4\n",
      "/kaggle/input/samplepesu/Training Dataset_Videos/V_AIRPLANE_039.mp4\n",
      "/kaggle/input/samplepesu/Training Dataset_Videos/V_HELICOPTER_056.mp4\n",
      "/kaggle/input/samplepesu/Training Dataset_Videos/V_HELICOPTER_052.mp4\n",
      "/kaggle/input/samplepesu/Training Dataset_Videos/V_HELICOPTER_004.mp4\n",
      "/kaggle/input/samplepesu/Training Dataset_Videos/V_HELICOPTER_013.mp4\n",
      "/kaggle/input/samplepesu/Training Dataset_Videos/V_AIRPLANE_050.mp4\n",
      "/kaggle/input/samplepesu/Training Dataset_Videos/V_AIRPLANE_014.mp4\n",
      "/kaggle/input/samplepesu/Training Dataset_Videos/V_DRONE_099.mp4\n",
      "/kaggle/input/samplepesu/Training Dataset_Videos/V_DRONE_015.mp4\n",
      "/kaggle/input/samplepesu/Training Dataset_Videos/V_HELICOPTER_034.mp4\n",
      "/kaggle/input/samplepesu/Training Dataset_Videos/V_AIRPLANE_054.mp4\n",
      "/kaggle/input/samplepesu/Training Dataset_Videos/V_AIRPLANE_018.mp4\n",
      "/kaggle/input/samplepesu/Training Dataset_Videos/V_BIRD_004.mp4\n",
      "/kaggle/input/samplepesu/Training Dataset_Videos/V_HELICOPTER_037.mp4\n",
      "/kaggle/input/samplepesu/Training Dataset_Videos/V_DRONE_090.mp4\n",
      "/kaggle/input/samplepesu/Training Dataset_Videos/V_DRONE_092.mp4\n",
      "/kaggle/input/samplepesu/Training Dataset_Videos/V_HELICOPTER_040.mp4\n",
      "/kaggle/input/samplepesu/Training Dataset_Videos/V_DRONE_002.mp4\n",
      "/kaggle/input/samplepesu/Training Dataset_Videos/V_BIRD_022.mp4\n",
      "/kaggle/input/samplepesu/Training Dataset_Videos/V_AIRPLANE_032.mp4\n",
      "/kaggle/input/samplepesu/Training Dataset_Videos/V_HELICOPTER_011.mp4\n",
      "/kaggle/input/samplepesu/Training Dataset_Videos/V_DRONE_056.mp4\n",
      "/kaggle/input/samplepesu/Training Dataset_Videos/V_BIRD_039.mp4\n",
      "/kaggle/input/samplepesu/Training Dataset_Videos/V_BIRD_043.mp4\n",
      "/kaggle/input/samplepesu/Training Dataset_Videos/V_BIRD_023.mp4\n",
      "/kaggle/input/samplepesu/Training Dataset_Videos/V_DRONE_074.mp4\n",
      "/kaggle/input/samplepesu/Training Dataset_Videos/V_HELICOPTER_044.mp4\n",
      "/kaggle/input/samplepesu/Training Dataset_Videos/V_DRONE_082.mp4\n",
      "/kaggle/input/samplepesu/Training Dataset_Videos/V_DRONE_079.mp4\n",
      "/kaggle/input/samplepesu/Training Dataset_Videos/V_BIRD_012.mp4\n",
      "/kaggle/input/samplepesu/Training Dataset_Videos/V_HELICOPTER_043.mp4\n",
      "/kaggle/input/samplepesu/Training Dataset_Videos/V_DRONE_033.mp4\n",
      "/kaggle/input/samplepesu/Training Dataset_Videos/V_AIRPLANE_015.mp4\n",
      "/kaggle/input/samplepesu/Training Dataset_Videos/V_DRONE_049.mp4\n",
      "/kaggle/input/samplepesu/Training Dataset_Videos/V_AIRPLANE_027.mp4\n",
      "/kaggle/input/samplepesu/Training Dataset_Videos/V_BIRD_016.mp4\n",
      "/kaggle/input/samplepesu/Training Dataset_Videos/V_DRONE_013.mp4\n",
      "/kaggle/input/samplepesu/Training Dataset_Videos/V_DRONE_017.mp4\n",
      "/kaggle/input/samplepesu/Training Dataset_Videos/V_BIRD_010.mp4\n",
      "/kaggle/input/samplepesu/Training Dataset_Videos/V_DRONE_001.mp4\n",
      "/kaggle/input/samplepesu/Training Dataset_Videos/V_BIRD_050.mp4\n",
      "/kaggle/input/samplepesu/Training Dataset_Videos/V_DRONE_047.mp4\n",
      "/kaggle/input/samplepesu/Training Dataset_Videos/V_DRONE_044.mp4\n",
      "/kaggle/input/samplepesu/Training Dataset_Videos/V_AIRPLANE_046.mp4\n",
      "/kaggle/input/samplepesu/Training Dataset_Videos/V_DRONE_004.mp4\n",
      "/kaggle/input/samplepesu/Training Dataset_Videos/V_DRONE_093.mp4\n",
      "/kaggle/input/samplepesu/Training Dataset_Videos/V_HELICOPTER_023.mp4\n",
      "/kaggle/input/samplepesu/Training Dataset_Videos/V_HELICOPTER_002.mp4\n",
      "/kaggle/input/samplepesu/Training Dataset_Videos/V_HELICOPTER_032.mp4\n",
      "/kaggle/input/samplepesu/Training Dataset_Videos/V_DRONE_061.mp4\n",
      "/kaggle/input/samplepesu/Training Dataset_Videos/V_BIRD_035.mp4\n",
      "/kaggle/input/samplepesu/Training Dataset_Videos/V_DRONE_106.mp4\n",
      "/kaggle/input/samplepesu/Training Dataset_Videos/V_AIRPLANE_041.mp4\n",
      "/kaggle/input/samplepesu/Training Dataset_Videos/V_HELICOPTER_024.mp4\n",
      "/kaggle/input/samplepesu/Training Dataset_Videos/V_DRONE_076.mp4\n",
      "/kaggle/input/samplepesu/Training Dataset_Videos/V_DRONE_072.mp4\n",
      "/kaggle/input/samplepesu/Training Dataset_Videos/V_DRONE_098.mp4\n",
      "/kaggle/input/samplepesu/Training Dataset_Videos/V_BIRD_002.mp4\n",
      "/kaggle/input/samplepesu/Training Dataset_Videos/V_AIRPLANE_035.mp4\n",
      "/kaggle/input/samplepesu/Training Dataset_Videos/V_DRONE_066.mp4\n",
      "/kaggle/input/samplepesu/Training Dataset_Videos/V_BIRD_051.mp4\n",
      "/kaggle/input/samplepesu/Training Dataset_Videos/V_DRONE_029.mp4\n",
      "/kaggle/input/samplepesu/Training Dataset_Videos/V_HELICOPTER_060.mp4\n",
      "/kaggle/input/samplepesu/Training Dataset_Videos/V_HELICOPTER_010.mp4\n",
      "/kaggle/input/samplepesu/Training Dataset_Videos/V_DRONE_050.mp4\n",
      "/kaggle/input/samplepesu/Training Dataset_Videos/V_BIRD_013.mp4\n",
      "/kaggle/input/samplepesu/Training Dataset_Videos/V_DRONE_016.mp4\n",
      "/kaggle/input/samplepesu/Training Dataset_Videos/V_BIRD_015.mp4\n",
      "/kaggle/input/samplepesu/Training Dataset_Videos/V_BIRD_033.mp4\n",
      "/kaggle/input/samplepesu/Training Dataset_Videos/V_AIRPLANE_025.mp4\n",
      "/kaggle/input/samplepesu/Training Dataset_Videos/V_AIRPLANE_002.mp4\n",
      "/kaggle/input/samplepesu/Training Dataset_Videos/V_DRONE_026.mp4\n",
      "/kaggle/input/samplepesu/Training Dataset_Videos/V_HELICOPTER_038.mp4\n",
      "/kaggle/input/samplepesu/Training Dataset_Videos/V_DRONE_081.mp4\n",
      "/kaggle/input/samplepesu/Training Dataset_Videos/V_AIRPLANE_040.mp4\n",
      "/kaggle/input/samplepesu/Training Dataset_Videos/V_DRONE_019.mp4\n",
      "/kaggle/input/samplepesu/Training Dataset_Videos/V_BIRD_040.mp4\n",
      "/kaggle/input/samplepesu/Training Dataset_Videos/V_AIRPLANE_005.mp4\n",
      "/kaggle/input/samplepesu/Training Dataset_Videos/V_HELICOPTER_012.mp4\n",
      "/kaggle/input/samplepesu/Training Dataset_Videos/V_DRONE_038.mp4\n",
      "/kaggle/input/samplepesu/Training Dataset_Videos/V_BIRD_042.mp4\n",
      "/kaggle/input/samplepesu/Training Dataset_Videos/V_BIRD_044.mp4\n",
      "/kaggle/input/samplepesu/Training Dataset_Videos/V_DRONE_070.mp4\n",
      "/kaggle/input/samplepesu/Training Dataset_Videos/V_DRONE_091.mp4\n",
      "/kaggle/input/samplepesu/Training Dataset_Videos/V_AIRPLANE_042.mp4\n",
      "/kaggle/input/samplepesu/Training Dataset_Videos/V_DRONE_103.mp4\n",
      "/kaggle/input/samplepesu/Training Dataset_Videos/V_HELICOPTER_026.mp4\n",
      "/kaggle/input/samplepesu/Training Dataset_Videos/V_DRONE_035.mp4\n",
      "/kaggle/input/samplepesu/Training Dataset_Videos/V_HELICOPTER_008.mp4\n",
      "/kaggle/input/samplepesu/Training Dataset_Videos/V_HELICOPTER_019.mp4\n",
      "/kaggle/input/samplepesu/Training Dataset_Videos/V_DRONE_067.mp4\n",
      "/kaggle/input/samplepesu/Training Dataset_Videos/V_DRONE_107.mp4\n",
      "/kaggle/input/samplepesu/Training Dataset_Videos/V_AIRPLANE_012.mp4\n",
      "/kaggle/input/samplepesu/Training Dataset_Videos/V_DRONE_073.mp4\n",
      "/kaggle/input/samplepesu/Training Dataset_Videos/V_DRONE_083.mp4\n",
      "/kaggle/input/samplepesu/Training Dataset_Videos/V_AIRPLANE_051.mp4\n",
      "/kaggle/input/samplepesu/Training Dataset_Videos/V_BIRD_011.mp4\n",
      "/kaggle/input/samplepesu/Training Dataset_Videos/V_DRONE_039.mp4\n",
      "/kaggle/input/samplepesu/Training Dataset_Videos/V_BIRD_027.mp4\n",
      "/kaggle/input/samplepesu/Training Dataset_Videos/V_AIRPLANE_007.mp4\n",
      "/kaggle/input/samplepesu/Training Dataset_Videos/V_BIRD_036.mp4\n",
      "/kaggle/input/samplepesu/Training Dataset_Videos/V_HELICOPTER_054.mp4\n",
      "/kaggle/input/samplepesu/Training Dataset_Videos/V_HELICOPTER_020.mp4\n",
      "/kaggle/input/samplepesu/Training Dataset_Videos/V_DRONE_031.mp4\n",
      "/kaggle/input/samplepesu/Training Dataset_Videos/V_DRONE_037.mp4\n",
      "/kaggle/input/samplepesu/Training Dataset_Videos/V_BIRD_041.mp4\n",
      "/kaggle/input/samplepesu/Training Dataset_Videos/V_DRONE_055.mp4\n",
      "/kaggle/input/samplepesu/Training Dataset_Videos/V_DRONE_095.mp4\n",
      "/kaggle/input/samplepesu/Training Dataset_Videos/V_HELICOPTER_055.mp4\n",
      "/kaggle/input/samplepesu/Training Dataset_Videos/V_HELICOPTER_049.mp4\n",
      "/kaggle/input/samplepesu/Training Dataset_Videos/V_DRONE_058.mp4\n",
      "/kaggle/input/samplepesu/Training Dataset_Videos/V_AIRPLANE_006.mp4\n",
      "/kaggle/input/samplepesu/Training Dataset_Videos/V_HELICOPTER_018.mp4\n",
      "/kaggle/input/samplepesu/Training Dataset_Videos/V_DRONE_087.mp4\n",
      "/kaggle/input/samplepesu/Training Dataset_Videos/V_DRONE_014.mp4\n",
      "/kaggle/input/samplepesu/Training Dataset_Videos/V_BIRD_045.mp4\n",
      "/kaggle/input/samplepesu/Training Dataset_Videos/V_DRONE_054.mp4\n",
      "/kaggle/input/samplepesu/Training Dataset_Videos/V_HELICOPTER_031.mp4\n",
      "/kaggle/input/samplepesu/Training Dataset_Videos/V_HELICOPTER_005.mp4\n",
      "/kaggle/input/samplepesu/Training Dataset_Videos/V_HELICOPTER_058.mp4\n",
      "/kaggle/input/samplepesu/Training Dataset_Videos/V_AIRPLANE_031.mp4\n",
      "/kaggle/input/samplepesu/Training Dataset_Videos/V_BIRD_017.mp4\n",
      "/kaggle/input/samplepesu/Training Dataset_Videos/V_DRONE_080.mp4\n",
      "/kaggle/input/samplepesu/Training Dataset_Videos/V_AIRPLANE_047.mp4\n",
      "/kaggle/input/samplepesu/Training Dataset_Videos/V_HELICOPTER_017.mp4\n",
      "/kaggle/input/samplepesu/Training Dataset_Videos/V_BIRD_003.mp4\n",
      "/kaggle/input/samplepesu/Training Dataset_Videos/V_BIRD_020.mp4\n",
      "/kaggle/input/samplepesu/Training Dataset_Videos/V_AIRPLANE_010.mp4\n",
      "/kaggle/input/samplepesu/Training Dataset_Videos/V_DRONE_100.mp4\n",
      "/kaggle/input/samplepesu/Training Dataset_Videos/V_DRONE_021.mp4\n",
      "/kaggle/input/samplepesu/Training Dataset_Videos/V_BIRD_005.mp4\n",
      "/kaggle/input/samplepesu/Training Dataset_Videos/V_BIRD_008.mp4\n",
      "/kaggle/input/samplepesu/Training Dataset_Videos/V_DRONE_052.mp4\n",
      "/kaggle/input/samplepesu/Training Dataset_Videos/V_AIRPLANE_021.mp4\n",
      "/kaggle/input/samplepesu/Training Dataset_Videos/V_HELICOPTER_036.mp4\n",
      "/kaggle/input/samplepesu/Training Dataset_Videos/V_DRONE_003.mp4\n",
      "/kaggle/input/samplepesu/Training Dataset_Videos/V_DRONE_009.mp4\n",
      "/kaggle/input/samplepesu/Training Dataset_Videos/V_AIRPLANE_028.mp4\n",
      "/kaggle/input/samplepesu/Training Dataset_Videos/V_HELICOPTER_051.mp4\n",
      "/kaggle/input/samplepesu/Training Dataset_Videos/V_BIRD_030.mp4\n",
      "/kaggle/input/samplepesu/Training Dataset_Videos/V_HELICOPTER_061.mp4\n",
      "/kaggle/input/samplepesu/Training Dataset_Videos/V_DRONE_097.mp4\n",
      "/kaggle/input/samplepesu/Training Dataset_Videos/V_DRONE_109.mp4\n",
      "/kaggle/input/samplepesu/Training Dataset_Videos/V_HELICOPTER_021.mp4\n",
      "/kaggle/input/samplepesu/Training Dataset_Videos/V_AIRPLANE_045.mp4\n",
      "/kaggle/input/samplepesu/Training Dataset_Videos/V_DRONE_057.mp4\n",
      "/kaggle/input/samplepesu/Training Dataset_Videos/V_DRONE_104.mp4\n",
      "/kaggle/input/samplepesu/Training Dataset_Videos/V_DRONE_034.mp4\n",
      "/kaggle/input/samplepesu/Training Dataset_Videos/V_AIRPLANE_009.mp4\n",
      "/kaggle/input/samplepesu/Training Dataset_Videos/V_DRONE_048.mp4\n",
      "/kaggle/input/samplepesu/Training Dataset_Videos/V_AIRPLANE_019.mp4\n",
      "/kaggle/input/samplepesu/Training Dataset_Videos/V_BIRD_031.mp4\n",
      "/kaggle/input/samplepesu/Training Dataset_Videos/V_BIRD_049.mp4\n",
      "/kaggle/input/samplepesu/Training Dataset_Videos/V_AIRPLANE_026.mp4\n",
      "/kaggle/input/samplepesu/Training Dataset_Videos/V_DRONE_102.mp4\n",
      "/kaggle/input/samplepesu/Training Dataset_Videos/V_DRONE_069.mp4\n",
      "/kaggle/input/samplepesu/Training Dataset_Videos/V_DRONE_075.mp4\n",
      "/kaggle/input/samplepesu/Training Dataset_Videos/V_DRONE_053.mp4\n",
      "/kaggle/input/samplepesu/Training Dataset_Videos/V_DRONE_112.mp4\n",
      "/kaggle/input/samplepesu/Training Dataset_Videos/V_AIRPLANE_058.mp4\n",
      "/kaggle/input/samplepesu/Training Dataset_Videos/V_DRONE_042.mp4\n",
      "/kaggle/input/samplepesu/Training Dataset_Videos/V_AIRPLANE_011.mp4\n",
      "/kaggle/input/samplepesu/Training Dataset_Videos/V_AIRPLANE_029.mp4\n",
      "/kaggle/input/samplepesu/Training Dataset_Videos/V_DRONE_086.mp4\n",
      "/kaggle/input/samplepesu/Training Dataset_Videos/V_HELICOPTER_030.mp4\n",
      "/kaggle/input/samplepesu/Training Dataset_Videos/V_BIRD_046.mp4\n",
      "/kaggle/input/samplepesu/Training Dataset_Videos/V_AIRPLANE_034.mp4\n",
      "/kaggle/input/samplepesu/Training Dataset_Videos/V_HELICOPTER_001.mp4\n",
      "/kaggle/input/samplepesu/Training Dataset_Videos/V_AIRPLANE_059.mp4\n",
      "/kaggle/input/samplepesu/Training Dataset_Videos/V_AIRPLANE_049.mp4\n",
      "/kaggle/input/samplepesu/Training Dataset_Videos/V_DRONE_006.mp4\n",
      "/kaggle/input/samplepesu/Training Dataset_Videos/V_DRONE_101.mp4\n",
      "/kaggle/input/samplepesu/Training Dataset_Videos/V_AIRPLANE_057.mp4\n",
      "/kaggle/input/samplepesu/Training Dataset_Videos/V_AIRPLANE_055.mp4\n",
      "/kaggle/input/samplepesu/Training Dataset_Videos/V_DRONE_078.mp4\n",
      "/kaggle/input/samplepesu/Training Dataset_Videos/V_BIRD_018.mp4\n",
      "/kaggle/input/samplepesu/Training Dataset_Videos/V_AIRPLANE_056.mp4\n",
      "/kaggle/input/samplepesu/Training Dataset_Videos/V_BIRD_026.mp4\n",
      "/kaggle/input/samplepesu/Training Dataset_Videos/V_BIRD_028.mp4\n",
      "/kaggle/input/samplepesu/Training Dataset_Videos/V_HELICOPTER_046.mp4\n",
      "/kaggle/input/samplepesu/Training Dataset_Videos/V_DRONE_008.mp4\n",
      "/kaggle/input/samplepesu/Training Dataset_Videos/V_DRONE_036.mp4\n",
      "/kaggle/input/samplepesu/Training Dataset_Videos/V_HELICOPTER_003.mp4\n",
      "/kaggle/input/samplepesu/Training Dataset_Videos/V_DRONE_077.mp4\n",
      "/kaggle/input/samplepesu/Training Dataset_Videos/V_HELICOPTER_027.mp4\n",
      "/kaggle/input/samplepesu/Training Dataset_Videos/V_AIRPLANE_013.mp4\n",
      "/kaggle/input/samplepesu/Training Dataset_Videos/V_HELICOPTER_006.mp4\n",
      "/kaggle/input/samplepesu/Training Dataset_Videos/V_HELICOPTER_048.mp4\n",
      "/kaggle/input/samplepesu/Training Dataset_Videos/V_DRONE_068.mp4\n",
      "/kaggle/input/samplepesu/Training Dataset_Videos/V_BIRD_021.mp4\n",
      "/kaggle/input/samplepesu/Training Dataset_Videos/V_DRONE_096.mp4\n",
      "/kaggle/input/samplepesu/Training Dataset_Videos/V_DRONE_051.mp4\n",
      "/kaggle/input/samplepesu/Training Dataset_Videos/V_BIRD_001.mp4\n",
      "/kaggle/input/samplepesu/Training Dataset_Videos/V_HELICOPTER_007.mp4\n",
      "/kaggle/input/samplepesu/Training Dataset_Videos/V_DRONE_045.mp4\n",
      "/kaggle/input/samplepesu/Training Dataset_Videos/V_HELICOPTER_059.mp4\n",
      "/kaggle/input/samplepesu/Training Dataset_Videos/V_AIRPLANE_017.mp4\n",
      "/kaggle/input/samplepesu/Training Dataset_Videos/V_BIRD_025.mp4\n",
      "/kaggle/input/samplepesu/Training Dataset_Videos/V_HELICOPTER_029.mp4\n",
      "/kaggle/input/samplepesu/Training Dataset_Videos/V_BIRD_032.mp4\n",
      "/kaggle/input/samplepesu/Training Dataset_Videos/V_DRONE_020.mp4\n",
      "/kaggle/input/samplepesu/Training Dataset_Videos/V_DRONE_059.mp4\n",
      "/kaggle/input/samplepesu/Training Dataset_Videos/V_HELICOPTER_016.mp4\n",
      "/kaggle/input/samplepesu/Training Dataset_Videos/V_AIRPLANE_053.mp4\n",
      "/kaggle/input/samplepesu/Training Dataset_Videos/V_DRONE_084.mp4\n",
      "/kaggle/input/samplepesu/Training Dataset_Videos/V_AIRPLANE_003.mp4\n",
      "/kaggle/input/samplepesu/Training Dataset_Videos/V_BIRD_019.mp4\n",
      "/kaggle/input/samplepesu/Training Dataset_Videos/V_DRONE_094.mp4\n",
      "/kaggle/input/samplepesu/Training Dataset_Videos/V_BIRD_009.mp4\n",
      "/kaggle/input/samplepesu/Training Dataset_Videos/V_BIRD_048.mp4\n",
      "/kaggle/input/samplepesu/Training Dataset_Videos/V_AIRPLANE_023.mp4\n",
      "/kaggle/input/samplepesu/Training Dataset_Videos/V_AIRPLANE_048.mp4\n",
      "/kaggle/input/samplepesu/Training Dataset_Videos/V_HELICOPTER_028.mp4\n",
      "/kaggle/input/samplepesu/Training Dataset_Videos/V_AIRPLANE_036.mp4\n",
      "/kaggle/input/samplepesu/Training Dataset_Videos/V_DRONE_110.mp4\n",
      "/kaggle/input/samplepesu/Training Dataset_Videos/V_HELICOPTER_057.mp4\n",
      "/kaggle/input/samplepesu/Training Dataset_Videos/V_AIRPLANE_038.mp4\n",
      "/kaggle/input/samplepesu/Training Dataset_Videos/V_DRONE_043.mp4\n",
      "/kaggle/input/samplepesu/Training Dataset_Videos/V_DRONE_085.mp4\n",
      "/kaggle/input/samplepesu/Training Dataset_Videos/V_HELICOPTER_053.mp4\n",
      "/kaggle/input/samplepesu/Training Dataset_Videos/V_BIRD_047.mp4\n",
      "/kaggle/input/samplepesu/Training Dataset_Videos/V_HELICOPTER_025.mp4\n",
      "/kaggle/input/samplepesu/Training Dataset_Videos/V_DRONE_007.mp4\n",
      "/kaggle/input/samplepesu/Training Dataset_Videos/V_DRONE_064.mp4\n",
      "/kaggle/input/samplepesu/Training Dataset_Videos/V_HELICOPTER_022.mp4\n",
      "/kaggle/input/samplepesu/Training Dataset_Videos/V_AIRPLANE_033.mp4\n",
      "/kaggle/input/samplepesu/Training Dataset_Videos/V_BIRD_007.mp4\n",
      "/kaggle/input/samplepesu/Training Dataset_Videos/V_HELICOPTER_047.mp4\n",
      "/kaggle/input/samplepesu/Training Dataset_Videos/V_AIRPLANE_024.mp4\n",
      "/kaggle/input/samplepesu/Training Dataset_Videos/V_HELICOPTER_015.mp4\n",
      "/kaggle/input/samplepesu/Training Dataset_Videos/V_DRONE_114.mp4\n",
      "/kaggle/input/samplepesu/Training Dataset_Videos/V_DRONE_018.mp4\n",
      "/kaggle/input/samplepesu/Training Dataset_Videos/V_DRONE_005.mp4\n",
      "/kaggle/input/samplepesu/Training Dataset_Videos/V_HELICOPTER_039.mp4\n",
      "/kaggle/input/samplepesu/Training Dataset_Videos/V_DRONE_010.mp4\n",
      "/kaggle/input/samplepesu/Training Dataset_Videos/V_HELICOPTER_033.mp4\n",
      "/kaggle/input/samplepesu/Training Dataset_Videos/V_DRONE_071.mp4\n",
      "/kaggle/input/samplepesu/Training Dataset_Videos/V_AIRPLANE_030.mp4\n",
      "/kaggle/input/samplepesu/Training Dataset_Videos/V_DRONE_113.mp4\n",
      "/kaggle/input/samplepesu/Training Dataset_Videos/V_DRONE_105.mp4\n",
      "/kaggle/input/samplepesu/Training Dataset_Videos/V_DRONE_030.mp4\n",
      "/kaggle/input/samplepesu/Training Dataset_Videos/V_DRONE_089.mp4\n",
      "/kaggle/input/samplepesu/Training Dataset_Videos/V_HELICOPTER_042.mp4\n",
      "/kaggle/input/samplepesu/Training Dataset_Videos/V_AIRPLANE_052.mp4\n",
      "/kaggle/input/samplepesu/Training Dataset_Videos/V_DRONE_062.mp4\n",
      "/kaggle/input/samplepesu/Training Dataset_Videos/V_AIRPLANE_016.mp4\n",
      "/kaggle/input/samplepesu/Training Dataset_Videos/V_AIRPLANE_004.mp4\n",
      "/kaggle/input/samplepesu/Training Dataset_Videos/V_DRONE_032.mp4\n",
      "/kaggle/input/samplepesu/Training Dataset_Videos/V_DRONE_108.mp4\n",
      "/kaggle/input/samplepesu/Training Dataset_Videos/V_DRONE_065.mp4\n",
      "/kaggle/input/samplepesu/Training Dataset_Videos/V_DRONE_088.mp4\n",
      "/kaggle/input/samplepesu/Training Dataset_Videos/V_BIRD_024.mp4\n",
      "/kaggle/input/samplepesu/Training Dataset_Videos/V_DRONE_027.mp4\n",
      "/kaggle/input/samplepesu/Training Dataset_Videos/V_AIRPLANE_020.mp4\n",
      "/kaggle/input/samplepesu/Training Dataset_Videos/V_DRONE_012.mp4\n",
      "/kaggle/input/samplepesu/Training Dataset_Videos/V_AIRPLANE_043.mp4\n",
      "/kaggle/input/samplepesu/Training Dataset_Videos/V_DRONE_028.mp4\n",
      "/kaggle/input/samplepesu/Training Dataset_Videos/V_BIRD_014.mp4\n",
      "/kaggle/input/samplepesu/Training Dataset_Videos/V_AIRPLANE_001.mp4\n",
      "/kaggle/input/samplepesu/Training Dataset_Videos/V_AIRPLANE_008.mp4\n",
      "/kaggle/input/samplepesu/Training Dataset_Videos/V_AIRPLANE_022.mp4\n",
      "/kaggle/input/samplepesu/Training Dataset_Videos/V_DRONE_041.mp4\n",
      "/kaggle/input/samplepesu/Training Dataset_Videos/V_BIRD_006.mp4\n",
      "/kaggle/input/samplepesu/Training Dataset_Videos/V_DRONE_025.mp4\n",
      "/kaggle/input/samplepesu/Test_data_images/14.jpeg\n",
      "/kaggle/input/samplepesu/Test_data_images/55.jpeg\n",
      "/kaggle/input/samplepesu/Test_data_images/18.jpeg\n",
      "/kaggle/input/samplepesu/Test_data_images/96.jpeg\n",
      "/kaggle/input/samplepesu/Test_data_images/93.jpeg\n",
      "/kaggle/input/samplepesu/Test_data_images/56.jpeg\n",
      "/kaggle/input/samplepesu/Test_data_images/91.jpeg\n",
      "/kaggle/input/samplepesu/Test_data_images/16.jpeg\n",
      "/kaggle/input/samplepesu/Test_data_images/44.jpeg\n",
      "/kaggle/input/samplepesu/Test_data_images/31.jpeg\n",
      "/kaggle/input/samplepesu/Test_data_images/25.jpeg\n",
      "/kaggle/input/samplepesu/Test_data_images/43.jpeg\n",
      "/kaggle/input/samplepesu/Test_data_images/67.jpeg\n",
      "/kaggle/input/samplepesu/Test_data_images/72.jpeg\n",
      "/kaggle/input/samplepesu/Test_data_images/27.jpeg\n",
      "/kaggle/input/samplepesu/Test_data_images/22.jpeg\n",
      "/kaggle/input/samplepesu/Test_data_images/24.jpeg\n",
      "/kaggle/input/samplepesu/Test_data_images/79.jpeg\n",
      "/kaggle/input/samplepesu/Test_data_images/6.jpeg\n",
      "/kaggle/input/samplepesu/Test_data_images/9.jpeg\n",
      "/kaggle/input/samplepesu/Test_data_images/45.jpeg\n",
      "/kaggle/input/samplepesu/Test_data_images/11.jpeg\n",
      "/kaggle/input/samplepesu/Test_data_images/20.jpeg\n",
      "/kaggle/input/samplepesu/Test_data_images/28.jpeg\n",
      "/kaggle/input/samplepesu/Test_data_images/57.jpeg\n",
      "/kaggle/input/samplepesu/Test_data_images/47.jpeg\n",
      "/kaggle/input/samplepesu/Test_data_images/98.jpeg\n",
      "/kaggle/input/samplepesu/Test_data_images/70.jpeg\n",
      "/kaggle/input/samplepesu/Test_data_images/97.jpeg\n",
      "/kaggle/input/samplepesu/Test_data_images/39.jpeg\n",
      "/kaggle/input/samplepesu/Test_data_images/32.jpeg\n",
      "/kaggle/input/samplepesu/Test_data_images/4.jpeg\n",
      "/kaggle/input/samplepesu/Test_data_images/5.jpeg\n",
      "/kaggle/input/samplepesu/Test_data_images/2.jpeg\n",
      "/kaggle/input/samplepesu/Test_data_images/42.jpeg\n",
      "/kaggle/input/samplepesu/Test_data_images/33.jpeg\n",
      "/kaggle/input/samplepesu/Test_data_images/19.jpeg\n",
      "/kaggle/input/samplepesu/Test_data_images/50.jpeg\n",
      "/kaggle/input/samplepesu/Test_data_images/65.jpeg\n",
      "/kaggle/input/samplepesu/Test_data_images/30.jpeg\n",
      "/kaggle/input/samplepesu/Test_data_images/7.jpeg\n",
      "/kaggle/input/samplepesu/Test_data_images/68.jpeg\n",
      "/kaggle/input/samplepesu/Test_data_images/59.jpeg\n",
      "/kaggle/input/samplepesu/Test_data_images/84.jpeg\n",
      "/kaggle/input/samplepesu/Test_data_images/46.jpeg\n",
      "/kaggle/input/samplepesu/Test_data_images/64.jpeg\n",
      "/kaggle/input/samplepesu/Test_data_images/99.jpeg\n",
      "/kaggle/input/samplepesu/Test_data_images/52.jpeg\n",
      "/kaggle/input/samplepesu/Test_data_images/77.jpeg\n",
      "/kaggle/input/samplepesu/Test_data_images/37.jpeg\n",
      "/kaggle/input/samplepesu/Test_data_images/21.jpeg\n",
      "/kaggle/input/samplepesu/Test_data_images/23.jpeg\n",
      "/kaggle/input/samplepesu/Test_data_images/78.jpeg\n",
      "/kaggle/input/samplepesu/Test_data_images/76.jpeg\n",
      "/kaggle/input/samplepesu/Test_data_images/51.jpeg\n",
      "/kaggle/input/samplepesu/Test_data_images/61.jpeg\n",
      "/kaggle/input/samplepesu/Test_data_images/60.jpeg\n",
      "/kaggle/input/samplepesu/Test_data_images/1.jpeg\n",
      "/kaggle/input/samplepesu/Test_data_images/82.jpeg\n",
      "/kaggle/input/samplepesu/Test_data_images/17.jpeg\n",
      "/kaggle/input/samplepesu/Test_data_images/3.jpeg\n",
      "/kaggle/input/samplepesu/Test_data_images/35.jpeg\n",
      "/kaggle/input/samplepesu/Test_data_images/100.jpeg\n",
      "/kaggle/input/samplepesu/Test_data_images/13.jpeg\n",
      "/kaggle/input/samplepesu/Test_data_images/86.jpeg\n",
      "/kaggle/input/samplepesu/Test_data_images/54.jpeg\n",
      "/kaggle/input/samplepesu/Test_data_images/49.jpeg\n",
      "/kaggle/input/samplepesu/Test_data_images/36.jpeg\n",
      "/kaggle/input/samplepesu/Test_data_images/15.jpeg\n",
      "/kaggle/input/samplepesu/Test_data_images/90.jpeg\n",
      "/kaggle/input/samplepesu/Test_data_images/88.jpeg\n",
      "/kaggle/input/samplepesu/Test_data_images/89.jpeg\n",
      "/kaggle/input/samplepesu/Test_data_images/95.jpeg\n",
      "/kaggle/input/samplepesu/Test_data_images/66.jpeg\n",
      "/kaggle/input/samplepesu/Test_data_images/80.jpeg\n",
      "/kaggle/input/samplepesu/Test_data_images/74.jpeg\n",
      "/kaggle/input/samplepesu/Test_data_images/92.jpeg\n",
      "/kaggle/input/samplepesu/Test_data_images/63.jpeg\n",
      "/kaggle/input/samplepesu/Test_data_images/34.jpeg\n",
      "/kaggle/input/samplepesu/Test_data_images/10.jpeg\n",
      "/kaggle/input/samplepesu/Test_data_images/29.jpeg\n",
      "/kaggle/input/samplepesu/Test_data_images/41.jpeg\n",
      "/kaggle/input/samplepesu/Test_data_images/85.jpeg\n",
      "/kaggle/input/samplepesu/Test_data_images/94.jpeg\n",
      "/kaggle/input/samplepesu/Test_data_images/8.jpeg\n",
      "/kaggle/input/samplepesu/Test_data_images/69.jpeg\n",
      "/kaggle/input/samplepesu/Test_data_images/48.jpeg\n",
      "/kaggle/input/samplepesu/Test_data_images/12.jpeg\n",
      "/kaggle/input/samplepesu/Test_data_images/62.jpeg\n",
      "/kaggle/input/samplepesu/Test_data_images/38.jpeg\n",
      "/kaggle/input/samplepesu/Test_data_images/71.jpeg\n",
      "/kaggle/input/samplepesu/Test_data_images/73.jpeg\n",
      "/kaggle/input/samplepesu/Test_data_images/26.jpeg\n",
      "/kaggle/input/samplepesu/Test_data_images/87.jpeg\n",
      "/kaggle/input/samplepesu/Test_data_images/81.jpeg\n",
      "/kaggle/input/samplepesu/Test_data_images/40.jpeg\n",
      "/kaggle/input/samplepesu/Test_data_images/53.jpeg\n",
      "/kaggle/input/samplepesu/Test_data_images/58.jpeg\n",
      "/kaggle/input/samplepesu/Test_data_images/83.jpeg\n",
      "/kaggle/input/samplepesu/Test_data_images/75.jpeg\n"
     ]
    }
   ],
   "source": [
    "# This Python 3 environment comes with many helpful analytics libraries installed\n",
    "# It is defined by the kaggle/python Docker image: https://github.com/kaggle/docker-python\n",
    "# For example, here's several helpful packages to load\n",
    "\n",
    "import numpy as np # linear algebra\n",
    "import pandas as pd # data processing, CSV file I/O (e.g. pd.read_csv)\n",
    "\n",
    "# Input data files are available in the read-only \"../input/\" directory\n",
    "# For example, running this (by clicking run or pressing Shift+Enter) will list all files under the input directory\n",
    "\n",
    "import os\n",
    "for dirname, _, filenames in os.walk('/kaggle/input'):\n",
    "    for filename in filenames:\n",
    "        print(os.path.join(dirname, filename))\n",
    "\n",
    "# You can write up to 20GB to the current directory (/kaggle/working/) that gets preserved as output when you create a version using \"Save & Run All\" \n",
    "# You can also write temporary files to /kaggle/temp/, but they won't be saved outside of the current session"
   ]
  },
  {
   "cell_type": "code",
   "execution_count": 2,
   "id": "8598906e",
   "metadata": {
    "execution": {
     "iopub.execute_input": "2023-04-21T14:27:35.955663Z",
     "iopub.status.busy": "2023-04-21T14:27:35.955029Z",
     "iopub.status.idle": "2023-04-21T14:28:25.364747Z",
     "shell.execute_reply": "2023-04-21T14:28:25.362365Z"
    },
    "papermill": {
     "duration": 49.423498,
     "end_time": "2023-04-21T14:28:25.367652",
     "exception": false,
     "start_time": "2023-04-21T14:27:35.944154",
     "status": "completed"
    },
    "tags": []
   },
   "outputs": [
    {
     "name": "stdout",
     "output_type": "stream",
     "text": [
      "Extracting frames from video file 1/280: /kaggle/input/samplepesu/Training Dataset_Videos/V_DRONE_022.mp4\n",
      "EOF\n",
      "Extracting frames from video file 2/280: /kaggle/input/samplepesu/Training Dataset_Videos/V_DRONE_011.mp4\n",
      "EOF\n",
      "Extracting frames from video file 3/280: /kaggle/input/samplepesu/Training Dataset_Videos/V_DRONE_023.mp4\n",
      "EOF\n",
      "Extracting frames from video file 4/280: /kaggle/input/samplepesu/Training Dataset_Videos/V_BIRD_034.mp4\n",
      "EOF\n",
      "Extracting frames from video file 5/280: /kaggle/input/samplepesu/Training Dataset_Videos/V_HELICOPTER_041.mp4\n",
      "EOF\n",
      "Extracting frames from video file 6/280: /kaggle/input/samplepesu/Training Dataset_Videos/V_DRONE_046.mp4\n",
      "EOF\n",
      "Extracting frames from video file 7/280: /kaggle/input/samplepesu/Training Dataset_Videos/V_DRONE_063.mp4\n",
      "EOF\n",
      "Extracting frames from video file 8/280: /kaggle/input/samplepesu/Training Dataset_Videos/V_HELICOPTER_050.mp4\n",
      "EOF\n",
      "Extracting frames from video file 9/280: /kaggle/input/samplepesu/Training Dataset_Videos/V_BIRD_029.mp4\n",
      "EOF\n",
      "Extracting frames from video file 10/280: /kaggle/input/samplepesu/Training Dataset_Videos/V_HELICOPTER_014.mp4\n",
      "EOF\n",
      "Extracting frames from video file 11/280: /kaggle/input/samplepesu/Training Dataset_Videos/V_AIRPLANE_044.mp4\n",
      "EOF\n",
      "Extracting frames from video file 12/280: /kaggle/input/samplepesu/Training Dataset_Videos/V_HELICOPTER_035.mp4\n",
      "EOF\n",
      "Extracting frames from video file 13/280: /kaggle/input/samplepesu/Training Dataset_Videos/V_HELICOPTER_009.mp4\n",
      "EOF\n",
      "Extracting frames from video file 14/280: /kaggle/input/samplepesu/Training Dataset_Videos/V_DRONE_024.mp4\n",
      "EOF\n",
      "Extracting frames from video file 15/280: /kaggle/input/samplepesu/Training Dataset_Videos/V_DRONE_060.mp4\n",
      "EOF\n",
      "Extracting frames from video file 16/280: /kaggle/input/samplepesu/Training Dataset_Videos/V_BIRD_037.mp4\n",
      "EOF\n",
      "Extracting frames from video file 17/280: /kaggle/input/samplepesu/Training Dataset_Videos/V_AIRPLANE_039.mp4\n",
      "EOF\n",
      "Extracting frames from video file 18/280: /kaggle/input/samplepesu/Training Dataset_Videos/V_HELICOPTER_056.mp4\n",
      "EOF\n",
      "Extracting frames from video file 19/280: /kaggle/input/samplepesu/Training Dataset_Videos/V_HELICOPTER_052.mp4\n",
      "EOF\n",
      "Extracting frames from video file 20/280: /kaggle/input/samplepesu/Training Dataset_Videos/V_HELICOPTER_004.mp4\n",
      "EOF\n",
      "Extracting frames from video file 21/280: /kaggle/input/samplepesu/Training Dataset_Videos/V_HELICOPTER_013.mp4\n",
      "EOF\n",
      "Extracting frames from video file 22/280: /kaggle/input/samplepesu/Training Dataset_Videos/V_AIRPLANE_050.mp4\n",
      "EOF\n",
      "Extracting frames from video file 23/280: /kaggle/input/samplepesu/Training Dataset_Videos/V_AIRPLANE_014.mp4\n",
      "EOF\n",
      "Extracting frames from video file 24/280: /kaggle/input/samplepesu/Training Dataset_Videos/V_DRONE_099.mp4\n",
      "EOF\n",
      "Extracting frames from video file 25/280: /kaggle/input/samplepesu/Training Dataset_Videos/V_DRONE_015.mp4\n",
      "EOF\n",
      "Extracting frames from video file 26/280: /kaggle/input/samplepesu/Training Dataset_Videos/V_HELICOPTER_034.mp4\n",
      "EOF\n",
      "Extracting frames from video file 27/280: /kaggle/input/samplepesu/Training Dataset_Videos/V_AIRPLANE_054.mp4\n",
      "EOF\n",
      "Extracting frames from video file 28/280: /kaggle/input/samplepesu/Training Dataset_Videos/V_AIRPLANE_018.mp4\n",
      "EOF\n",
      "Extracting frames from video file 29/280: /kaggle/input/samplepesu/Training Dataset_Videos/V_BIRD_004.mp4\n",
      "EOF\n",
      "Extracting frames from video file 30/280: /kaggle/input/samplepesu/Training Dataset_Videos/V_HELICOPTER_037.mp4\n",
      "EOF\n"
     ]
    }
   ],
   "source": [
    "import cv2\n",
    "import os\n",
    "import pandas as pd\n",
    "\n",
    "# Define the folder path containing the videos\n",
    "folder_path = '/kaggle/input/samplepesu/Training Dataset_Videos'\n",
    "\n",
    "# Get a list of all video files in the folder\n",
    "video_files = [os.path.join(folder_path, f) for f in os.listdir(folder_path) if f.endswith('.mp4')]\n",
    "\n",
    "# Create a directory to save the extracted frames\n",
    "if not os.path.exists('frames'):\n",
    "    os.makedirs('frames')\n",
    "count = 1\n",
    "label_list=[]\n",
    "box_list=[]\n",
    "name_list=[]\n",
    "# Loop over all the video files in the folder\n",
    "for i, video_file in enumerate(video_files[0:30]):\n",
    "    row_count=0\n",
    "    print(f\"Extracting frames from video file {i+1}/{len(video_files)}: {video_file}\")\n",
    "    # Open the video file\n",
    "    vidcap = cv2.VideoCapture(video_file)\n",
    "    csv_name=video_file.split(\"/\")[5].split(\".\")[0]\n",
    "    tag=csv_name.split(\"_\")[1]\n",
    "    csv_name=\"/kaggle/input/samplepesu/Training Dataset_csv/\"+csv_name+\"_LABELS.csv\"\n",
    "    df=pd.read_csv(csv_name,header=None,names=[\"time\",\"AIRPLANE\",\"BIRD\",\"DRONE\",\"HELICOPTER\"])\n",
    "    # Extract frames at every n-th second (e.g., 1 frame per second)\n",
    "    success = True\n",
    "    while success:\n",
    "        filename = f\"frames/{count}.jpg\"\n",
    "        success, image = vidcap.read()\n",
    "        try:\n",
    "            cv2.imwrite(filename, image)\n",
    "            if \"3x\" not in df[tag][row_count] or \"4x\" not in df[tag][row_count] or \";\" not in df[tag][row_count]:\n",
    "                box_list.append(df[tag][row_count])\n",
    "                label_list.append(tag)\n",
    "                name_list.append(f\"{count}.jpg\")\n",
    "            count += 1\n",
    "            row_count+=1                \n",
    "        except:\n",
    "            print(\"EOF\")\n",
    "dic={\"name\":name_list,\"label\":label_list,\"bounding_box\":box_list}\n",
    "df=pd.DataFrame(dic)\n",
    "df.to_csv(\"final_csv.csv\",index=False)"
   ]
  },
  {
   "cell_type": "code",
   "execution_count": 3,
   "id": "a00ee681",
   "metadata": {
    "execution": {
     "iopub.execute_input": "2023-04-21T14:28:25.392708Z",
     "iopub.status.busy": "2023-04-21T14:28:25.391929Z",
     "iopub.status.idle": "2023-04-21T14:28:25.418339Z",
     "shell.execute_reply": "2023-04-21T14:28:25.417292Z"
    },
    "papermill": {
     "duration": 0.041209,
     "end_time": "2023-04-21T14:28:25.420646",
     "exception": false,
     "start_time": "2023-04-21T14:28:25.379437",
     "status": "completed"
    },
    "tags": []
   },
   "outputs": [],
   "source": [
    "df=pd.DataFrame(dic)\n",
    "df.to_csv(\"final_csv.csv\",index=False)\n"
   ]
  },
  {
   "cell_type": "code",
   "execution_count": 4,
   "id": "4eab65f9",
   "metadata": {
    "execution": {
     "iopub.execute_input": "2023-04-21T14:28:25.445533Z",
     "iopub.status.busy": "2023-04-21T14:28:25.444925Z",
     "iopub.status.idle": "2023-04-21T14:28:25.512658Z",
     "shell.execute_reply": "2023-04-21T14:28:25.511109Z"
    },
    "papermill": {
     "duration": 0.082,
     "end_time": "2023-04-21T14:28:25.514232",
     "exception": true,
     "start_time": "2023-04-21T14:28:25.432232",
     "status": "failed"
    },
    "tags": []
   },
   "outputs": [
    {
     "ename": "KeyError",
     "evalue": "64062",
     "output_type": "error",
     "traceback": [
      "\u001b[0;31m---------------------------------------------------------------------------\u001b[0m",
      "\u001b[0;31mValueError\u001b[0m                                Traceback (most recent call last)",
      "\u001b[0;32m/opt/conda/lib/python3.7/site-packages/pandas/core/indexes/range.py\u001b[0m in \u001b[0;36mget_loc\u001b[0;34m(self, key, method, tolerance)\u001b[0m\n\u001b[1;32m    384\u001b[0m                 \u001b[0;32mtry\u001b[0m\u001b[0;34m:\u001b[0m\u001b[0;34m\u001b[0m\u001b[0;34m\u001b[0m\u001b[0m\n\u001b[0;32m--> 385\u001b[0;31m                     \u001b[0;32mreturn\u001b[0m \u001b[0mself\u001b[0m\u001b[0;34m.\u001b[0m\u001b[0m_range\u001b[0m\u001b[0;34m.\u001b[0m\u001b[0mindex\u001b[0m\u001b[0;34m(\u001b[0m\u001b[0mnew_key\u001b[0m\u001b[0;34m)\u001b[0m\u001b[0;34m\u001b[0m\u001b[0;34m\u001b[0m\u001b[0m\n\u001b[0m\u001b[1;32m    386\u001b[0m                 \u001b[0;32mexcept\u001b[0m \u001b[0mValueError\u001b[0m \u001b[0;32mas\u001b[0m \u001b[0merr\u001b[0m\u001b[0;34m:\u001b[0m\u001b[0;34m\u001b[0m\u001b[0;34m\u001b[0m\u001b[0m\n",
      "\u001b[0;31mValueError\u001b[0m: 64062 is not in range",
      "\nThe above exception was the direct cause of the following exception:\n",
      "\u001b[0;31mKeyError\u001b[0m                                  Traceback (most recent call last)",
      "\u001b[0;32m/tmp/ipykernel_23/1143720766.py\u001b[0m in \u001b[0;36m<module>\u001b[0;34m\u001b[0m\n\u001b[0;32m----> 1\u001b[0;31m \u001b[0ms\u001b[0m\u001b[0;34m=\u001b[0m\u001b[0mdf\u001b[0m\u001b[0;34m[\u001b[0m\u001b[0;34m'bounding_box'\u001b[0m\u001b[0;34m]\u001b[0m\u001b[0;34m[\u001b[0m\u001b[0;36m64062\u001b[0m\u001b[0;34m]\u001b[0m\u001b[0;34m\u001b[0m\u001b[0;34m\u001b[0m\u001b[0m\n\u001b[0m\u001b[1;32m      2\u001b[0m \u001b[0md\u001b[0m\u001b[0;34m=\u001b[0m\u001b[0mdf\u001b[0m\u001b[0;34m[\u001b[0m\u001b[0;34m'bounding_box'\u001b[0m\u001b[0;34m]\u001b[0m\u001b[0;34m[\u001b[0m\u001b[0;36m12520\u001b[0m\u001b[0;34m]\u001b[0m\u001b[0;34m\u001b[0m\u001b[0;34m\u001b[0m\u001b[0m\n\u001b[1;32m      3\u001b[0m \u001b[0mprint\u001b[0m\u001b[0;34m(\u001b[0m\u001b[0ms\u001b[0m\u001b[0;34m,\u001b[0m\u001b[0md\u001b[0m\u001b[0;34m)\u001b[0m\u001b[0;34m\u001b[0m\u001b[0;34m\u001b[0m\u001b[0m\n\u001b[1;32m      4\u001b[0m \u001b[0mdf\u001b[0m\u001b[0;34m.\u001b[0m\u001b[0mdrop\u001b[0m\u001b[0;34m(\u001b[0m\u001b[0mdf\u001b[0m\u001b[0;34m[\u001b[0m\u001b[0mdf\u001b[0m\u001b[0;34m[\u001b[0m\u001b[0;34m'bounding_box'\u001b[0m\u001b[0;34m]\u001b[0m\u001b[0;34m==\u001b[0m\u001b[0ms\u001b[0m\u001b[0;34m]\u001b[0m\u001b[0;34m.\u001b[0m\u001b[0mindex\u001b[0m\u001b[0;34m,\u001b[0m \u001b[0minplace\u001b[0m \u001b[0;34m=\u001b[0m \u001b[0;32mTrue\u001b[0m\u001b[0;34m)\u001b[0m\u001b[0;34m\u001b[0m\u001b[0;34m\u001b[0m\u001b[0m\n\u001b[1;32m      5\u001b[0m \u001b[0mdf\u001b[0m\u001b[0;34m.\u001b[0m\u001b[0mdrop\u001b[0m\u001b[0;34m(\u001b[0m\u001b[0mdf\u001b[0m\u001b[0;34m[\u001b[0m\u001b[0mdf\u001b[0m\u001b[0;34m[\u001b[0m\u001b[0;34m'bounding_box'\u001b[0m\u001b[0;34m]\u001b[0m\u001b[0;34m==\u001b[0m\u001b[0md\u001b[0m\u001b[0;34m]\u001b[0m\u001b[0;34m.\u001b[0m\u001b[0mindex\u001b[0m\u001b[0;34m,\u001b[0m \u001b[0minplace\u001b[0m \u001b[0;34m=\u001b[0m \u001b[0;32mTrue\u001b[0m\u001b[0;34m)\u001b[0m\u001b[0;34m\u001b[0m\u001b[0;34m\u001b[0m\u001b[0m\n",
      "\u001b[0;32m/opt/conda/lib/python3.7/site-packages/pandas/core/series.py\u001b[0m in \u001b[0;36m__getitem__\u001b[0;34m(self, key)\u001b[0m\n\u001b[1;32m    940\u001b[0m \u001b[0;34m\u001b[0m\u001b[0m\n\u001b[1;32m    941\u001b[0m         \u001b[0;32melif\u001b[0m \u001b[0mkey_is_scalar\u001b[0m\u001b[0;34m:\u001b[0m\u001b[0;34m\u001b[0m\u001b[0;34m\u001b[0m\u001b[0m\n\u001b[0;32m--> 942\u001b[0;31m             \u001b[0;32mreturn\u001b[0m \u001b[0mself\u001b[0m\u001b[0;34m.\u001b[0m\u001b[0m_get_value\u001b[0m\u001b[0;34m(\u001b[0m\u001b[0mkey\u001b[0m\u001b[0;34m)\u001b[0m\u001b[0;34m\u001b[0m\u001b[0;34m\u001b[0m\u001b[0m\n\u001b[0m\u001b[1;32m    943\u001b[0m \u001b[0;34m\u001b[0m\u001b[0m\n\u001b[1;32m    944\u001b[0m         \u001b[0;32mif\u001b[0m \u001b[0mis_hashable\u001b[0m\u001b[0;34m(\u001b[0m\u001b[0mkey\u001b[0m\u001b[0;34m)\u001b[0m\u001b[0;34m:\u001b[0m\u001b[0;34m\u001b[0m\u001b[0;34m\u001b[0m\u001b[0m\n",
      "\u001b[0;32m/opt/conda/lib/python3.7/site-packages/pandas/core/series.py\u001b[0m in \u001b[0;36m_get_value\u001b[0;34m(self, label, takeable)\u001b[0m\n\u001b[1;32m   1049\u001b[0m \u001b[0;34m\u001b[0m\u001b[0m\n\u001b[1;32m   1050\u001b[0m         \u001b[0;31m# Similar to Index.get_value, but we do not fall back to positional\u001b[0m\u001b[0;34m\u001b[0m\u001b[0;34m\u001b[0m\u001b[0;34m\u001b[0m\u001b[0m\n\u001b[0;32m-> 1051\u001b[0;31m         \u001b[0mloc\u001b[0m \u001b[0;34m=\u001b[0m \u001b[0mself\u001b[0m\u001b[0;34m.\u001b[0m\u001b[0mindex\u001b[0m\u001b[0;34m.\u001b[0m\u001b[0mget_loc\u001b[0m\u001b[0;34m(\u001b[0m\u001b[0mlabel\u001b[0m\u001b[0;34m)\u001b[0m\u001b[0;34m\u001b[0m\u001b[0;34m\u001b[0m\u001b[0m\n\u001b[0m\u001b[1;32m   1052\u001b[0m         \u001b[0;32mreturn\u001b[0m \u001b[0mself\u001b[0m\u001b[0;34m.\u001b[0m\u001b[0mindex\u001b[0m\u001b[0;34m.\u001b[0m\u001b[0m_get_values_for_loc\u001b[0m\u001b[0;34m(\u001b[0m\u001b[0mself\u001b[0m\u001b[0;34m,\u001b[0m \u001b[0mloc\u001b[0m\u001b[0;34m,\u001b[0m \u001b[0mlabel\u001b[0m\u001b[0;34m)\u001b[0m\u001b[0;34m\u001b[0m\u001b[0;34m\u001b[0m\u001b[0m\n\u001b[1;32m   1053\u001b[0m \u001b[0;34m\u001b[0m\u001b[0m\n",
      "\u001b[0;32m/opt/conda/lib/python3.7/site-packages/pandas/core/indexes/range.py\u001b[0m in \u001b[0;36mget_loc\u001b[0;34m(self, key, method, tolerance)\u001b[0m\n\u001b[1;32m    385\u001b[0m                     \u001b[0;32mreturn\u001b[0m \u001b[0mself\u001b[0m\u001b[0;34m.\u001b[0m\u001b[0m_range\u001b[0m\u001b[0;34m.\u001b[0m\u001b[0mindex\u001b[0m\u001b[0;34m(\u001b[0m\u001b[0mnew_key\u001b[0m\u001b[0;34m)\u001b[0m\u001b[0;34m\u001b[0m\u001b[0;34m\u001b[0m\u001b[0m\n\u001b[1;32m    386\u001b[0m                 \u001b[0;32mexcept\u001b[0m \u001b[0mValueError\u001b[0m \u001b[0;32mas\u001b[0m \u001b[0merr\u001b[0m\u001b[0;34m:\u001b[0m\u001b[0;34m\u001b[0m\u001b[0;34m\u001b[0m\u001b[0m\n\u001b[0;32m--> 387\u001b[0;31m                     \u001b[0;32mraise\u001b[0m \u001b[0mKeyError\u001b[0m\u001b[0;34m(\u001b[0m\u001b[0mkey\u001b[0m\u001b[0;34m)\u001b[0m \u001b[0;32mfrom\u001b[0m \u001b[0merr\u001b[0m\u001b[0;34m\u001b[0m\u001b[0;34m\u001b[0m\u001b[0m\n\u001b[0m\u001b[1;32m    388\u001b[0m             \u001b[0;32mraise\u001b[0m \u001b[0mKeyError\u001b[0m\u001b[0;34m(\u001b[0m\u001b[0mkey\u001b[0m\u001b[0;34m)\u001b[0m\u001b[0;34m\u001b[0m\u001b[0;34m\u001b[0m\u001b[0m\n\u001b[1;32m    389\u001b[0m         \u001b[0;32mreturn\u001b[0m \u001b[0msuper\u001b[0m\u001b[0;34m(\u001b[0m\u001b[0;34m)\u001b[0m\u001b[0;34m.\u001b[0m\u001b[0mget_loc\u001b[0m\u001b[0;34m(\u001b[0m\u001b[0mkey\u001b[0m\u001b[0;34m,\u001b[0m \u001b[0mmethod\u001b[0m\u001b[0;34m=\u001b[0m\u001b[0mmethod\u001b[0m\u001b[0;34m,\u001b[0m \u001b[0mtolerance\u001b[0m\u001b[0;34m=\u001b[0m\u001b[0mtolerance\u001b[0m\u001b[0;34m)\u001b[0m\u001b[0;34m\u001b[0m\u001b[0;34m\u001b[0m\u001b[0m\n",
      "\u001b[0;31mKeyError\u001b[0m: 64062"
     ]
    }
   ],
   "source": [
    "s=df['bounding_box'][64062]\n",
    "d=df['bounding_box'][12520]\n",
    "print(s,d)\n",
    "df.drop(df[df['bounding_box']==s].index, inplace = True)\n",
    "df.drop(df[df['bounding_box']==d].index, inplace = True)"
   ]
  },
  {
   "cell_type": "code",
   "execution_count": null,
   "id": "91417c9e",
   "metadata": {
    "papermill": {
     "duration": null,
     "end_time": null,
     "exception": null,
     "start_time": null,
     "status": "pending"
    },
    "tags": []
   },
   "outputs": [],
   "source": [
    "df = df[~df.apply(lambda row: row.astype(str).str.contains(';').any(), axis=1)]"
   ]
  },
  {
   "cell_type": "code",
   "execution_count": null,
   "id": "11304f67",
   "metadata": {
    "papermill": {
     "duration": null,
     "end_time": null,
     "exception": null,
     "start_time": null,
     "status": "pending"
    },
    "tags": []
   },
   "outputs": [],
   "source": [
    "df.to_csv(\"final_csv.csv\",index=False)"
   ]
  },
  {
   "cell_type": "code",
   "execution_count": null,
   "id": "3ded9851",
   "metadata": {
    "papermill": {
     "duration": null,
     "end_time": null,
     "exception": null,
     "start_time": null,
     "status": "pending"
    },
    "tags": []
   },
   "outputs": [],
   "source": [
    "df=pd.read_csv(\"/kaggle/working/final_csv.csv\")"
   ]
  },
  {
   "cell_type": "code",
   "execution_count": null,
   "id": "1e5f739f",
   "metadata": {
    "papermill": {
     "duration": null,
     "end_time": null,
     "exception": null,
     "start_time": null,
     "status": "pending"
    },
    "tags": []
   },
   "outputs": [],
   "source": [
    "import pandas as pd\n",
    "import numpy as np\n",
    "import cv2\n",
    "import os\n",
    "import re\n",
    "\n",
    "from PIL import Image\n",
    "\n",
    "import albumentations as A\n",
    "from albumentations.pytorch.transforms import ToTensorV2\n",
    "\n",
    "import torch\n",
    "import torchvision\n",
    "\n",
    "from torchvision.models.detection.faster_rcnn import FastRCNNPredictor\n",
    "from torchvision.models.detection import FasterRCNN\n",
    "from torchvision.models.detection.rpn import AnchorGenerator\n",
    "\n",
    "from torch.utils.data import DataLoader, Dataset\n",
    "from torch.utils.data.sampler import SequentialSampler\n",
    "\n",
    "from matplotlib import pyplot as plt\n",
    "\n",
    "# DIR_INPUT = '/kaggle/input/global-wheat-detection'\n",
    "# DIR_TRAIN = f'{DIR_INPUT}/train'\n",
    "# DIR_TEST = f'{DIR_INPUT}/test'"
   ]
  },
  {
   "cell_type": "code",
   "execution_count": null,
   "id": "0e49f4fe",
   "metadata": {
    "papermill": {
     "duration": null,
     "end_time": null,
     "exception": null,
     "start_time": null,
     "status": "pending"
    },
    "tags": []
   },
   "outputs": [],
   "source": [
    "train_df = df\n",
    "train_df.shape"
   ]
  },
  {
   "cell_type": "code",
   "execution_count": null,
   "id": "5d9c56a0",
   "metadata": {
    "_kg_hide-input": true,
    "papermill": {
     "duration": null,
     "end_time": null,
     "exception": null,
     "start_time": null,
     "status": "pending"
    },
    "tags": []
   },
   "outputs": [],
   "source": [
    "def expand_bbox(x):\n",
    "    z=x.strip(\"[]\").split(\",\") \n",
    "    if len(z)<4:\n",
    "        r = [-1, -1, -1, -1]\n",
    "    else:\n",
    "        z=list(map(float,z))\n",
    "        r = np.array(z)  \n",
    "    if len(r) == 0:\n",
    "        r = [-1, -1, -1, -1]\n",
    "    return np.array([r])\n",
    "\n",
    "train_df.loc[:, ['x', 'y', 'w', 'h']] = np.concatenate(train_df['bounding_box'].apply(lambda x: expand_bbox(x)).to_numpy())"
   ]
  },
  {
   "cell_type": "code",
   "execution_count": null,
   "id": "f0753f87",
   "metadata": {
    "papermill": {
     "duration": null,
     "end_time": null,
     "exception": null,
     "start_time": null,
     "status": "pending"
    },
    "tags": []
   },
   "outputs": [],
   "source": [
    "train_df"
   ]
  },
  {
   "cell_type": "code",
   "execution_count": null,
   "id": "12c1111b",
   "metadata": {
    "papermill": {
     "duration": null,
     "end_time": null,
     "exception": null,
     "start_time": null,
     "status": "pending"
    },
    "tags": []
   },
   "outputs": [],
   "source": [
    "image_ids = train_df['name'].unique()\n",
    "valid_ids = image_ids[-640:]\n",
    "train_ids = image_ids[:-640]"
   ]
  },
  {
   "cell_type": "code",
   "execution_count": null,
   "id": "a969ba46",
   "metadata": {
    "papermill": {
     "duration": null,
     "end_time": null,
     "exception": null,
     "start_time": null,
     "status": "pending"
    },
    "tags": []
   },
   "outputs": [],
   "source": [
    "valid_df = train_df[train_df['name'].isin(valid_ids)]\n",
    "train_df = train_df[train_df['name'].isin(train_ids)]"
   ]
  },
  {
   "cell_type": "code",
   "execution_count": null,
   "id": "336bcbe1",
   "metadata": {
    "papermill": {
     "duration": null,
     "end_time": null,
     "exception": null,
     "start_time": null,
     "status": "pending"
    },
    "tags": []
   },
   "outputs": [],
   "source": [
    "valid_df.shape, train_df.shape"
   ]
  },
  {
   "cell_type": "code",
   "execution_count": null,
   "id": "913f4edd",
   "metadata": {
    "papermill": {
     "duration": null,
     "end_time": null,
     "exception": null,
     "start_time": null,
     "status": "pending"
    },
    "tags": []
   },
   "outputs": [],
   "source": [
    "class Customise_Data(Dataset):\n",
    "\n",
    "    def __init__(self, dataframe, image_dir, transforms=None):\n",
    "        super().__init__()\n",
    "\n",
    "        self.image_ids = dataframe['name'].unique()\n",
    "        self.df = dataframe\n",
    "        self.image_dir = image_dir\n",
    "        self.transforms = transforms\n",
    "\n",
    "    def __getitem__(self, index: int):\n",
    "\n",
    "        image_id = self.image_ids[index]\n",
    "        records = self.df[self.df['name'] == image_id]\n",
    "        image = cv2.imread(f'{self.image_dir}/{image_id}', cv2.IMREAD_COLOR)\n",
    "        image = cv2.cvtColor(image, cv2.COLOR_BGR2RGB).astype(np.float32)\n",
    "        image /= 255.0\n",
    "\n",
    "        boxes = records[['x', 'y', 'w', 'h']].values\n",
    "        boxes[:, 2] = boxes[:, 0] + boxes[:, 2]\n",
    "        boxes[:, 3] = boxes[:, 1] + boxes[:, 3]\n",
    "        \n",
    "        area = (boxes[:, 3] - boxes[:, 1]) * (boxes[:, 2] - boxes[:, 0])\n",
    "        area = torch.as_tensor(area, dtype=torch.float32)\n",
    "\n",
    "        # there is only one class\n",
    "        labels = torch.ones((records.shape[0],), dtype=torch.int64)\n",
    "        \n",
    "        # suppose all instances are not crowd\n",
    "        iscrowd = torch.zeros((records.shape[0],), dtype=torch.int64)\n",
    "        \n",
    "        target = {}\n",
    "        target['boxes'] = boxes\n",
    "        target['labels'] = labels\n",
    "        # target['masks'] = None\n",
    "        target['image_id'] = torch.tensor([index])\n",
    "        target['area'] = area\n",
    "        target['iscrowd'] = iscrowd\n",
    "\n",
    "        if self.transforms:\n",
    "            sample = {\n",
    "                'image': image,\n",
    "                'bboxes': target['boxes'],\n",
    "                'labels': labels\n",
    "            }\n",
    "            sample = self.transforms(**sample)\n",
    "            image = sample['image']\n",
    "            \n",
    "            target['boxes'] = torch.stack(tuple(map(torch.tensor, zip(*sample['bboxes'])))).permute(1, 0)\n",
    "\n",
    "        return image, target, image_id\n",
    "\n",
    "    def __len__(self) -> int:\n",
    "        return self.image_ids.shape[0]"
   ]
  },
  {
   "cell_type": "code",
   "execution_count": null,
   "id": "9256415f",
   "metadata": {
    "papermill": {
     "duration": null,
     "end_time": null,
     "exception": null,
     "start_time": null,
     "status": "pending"
    },
    "tags": []
   },
   "outputs": [],
   "source": [
    "# Albumentations\n",
    "def get_train_transform():\n",
    "    return A.Compose([\n",
    "        A.Flip(0.5),\n",
    "        ToTensorV2(p=1.0)\n",
    "    ], bbox_params={'format': 'pascal_voc', 'label_fields': ['labels']})\n",
    "\n",
    "def get_valid_transform():\n",
    "    return A.Compose([\n",
    "        ToTensorV2(p=1.0)\n",
    "    ], bbox_params={'format': 'pascal_voc', 'label_fields': ['labels']})"
   ]
  },
  {
   "cell_type": "code",
   "execution_count": null,
   "id": "095fdbeb",
   "metadata": {
    "papermill": {
     "duration": null,
     "end_time": null,
     "exception": null,
     "start_time": null,
     "status": "pending"
    },
    "tags": []
   },
   "outputs": [],
   "source": [
    "# load a model; pre-trained on COCO\n",
    "model = torchvision.models.detection.fasterrcnn_resnet50_fpn(pretrained=True)"
   ]
  },
  {
   "cell_type": "code",
   "execution_count": null,
   "id": "1f4a390a",
   "metadata": {
    "papermill": {
     "duration": null,
     "end_time": null,
     "exception": null,
     "start_time": null,
     "status": "pending"
    },
    "tags": []
   },
   "outputs": [],
   "source": [
    "num_classes = 4  # 1 class (wheat) + background\n",
    "\n",
    "# get number of input features for the classifier\n",
    "in_features = model.roi_heads.box_predictor.cls_score.in_features\n",
    "\n",
    "# replace the pre-trained head with a new one\n",
    "model.roi_heads.box_predictor = FastRCNNPredictor(in_features, num_classes)"
   ]
  },
  {
   "cell_type": "code",
   "execution_count": null,
   "id": "11097aa7",
   "metadata": {
    "papermill": {
     "duration": null,
     "end_time": null,
     "exception": null,
     "start_time": null,
     "status": "pending"
    },
    "tags": []
   },
   "outputs": [],
   "source": [
    "class Averager:\n",
    "    def __init__(self):\n",
    "        self.current_total = 0.0\n",
    "        self.iterations = 0.0\n",
    "\n",
    "    def send(self, value):\n",
    "        self.current_total += value\n",
    "        self.iterations += 1\n",
    "\n",
    "    @property\n",
    "    def value(self):\n",
    "        if self.iterations == 0:\n",
    "            return 0\n",
    "        else:\n",
    "            return 1.0 * self.current_total / self.iterations\n",
    "\n",
    "    def reset(self):\n",
    "        self.current_total = 0.0\n",
    "        self.iterations = 0.0\n"
   ]
  },
  {
   "cell_type": "code",
   "execution_count": null,
   "id": "7d66881a",
   "metadata": {
    "papermill": {
     "duration": null,
     "end_time": null,
     "exception": null,
     "start_time": null,
     "status": "pending"
    },
    "tags": []
   },
   "outputs": [],
   "source": [
    "DIR_TRAIN=\"/kaggle/working/frames\""
   ]
  },
  {
   "cell_type": "code",
   "execution_count": null,
   "id": "2eab17f3",
   "metadata": {
    "papermill": {
     "duration": null,
     "end_time": null,
     "exception": null,
     "start_time": null,
     "status": "pending"
    },
    "tags": []
   },
   "outputs": [],
   "source": [
    "def collate_fn(batch):\n",
    "    return tuple(zip(*batch))\n",
    "\n",
    "train_dataset = Custom_Data(train_df,DIR_TRAIN, get_train_transform())\n",
    "valid_dataset = Custom_Data(valid_df, DIR_TRAIN, get_valid_transform())\n",
    "\n",
    "\n",
    "# split the dataset in train and test set\n",
    "indices = torch.randperm(len(train_dataset)).tolist()\n",
    "\n",
    "train_data_loader = DataLoader(\n",
    "    train_dataset,\n",
    "    batch_size=3,\n",
    "    shuffle=False,\n",
    "    num_workers=4,\n",
    "    collate_fn=collate_fn\n",
    ")\n",
    "\n",
    "valid_data_loader = DataLoader(\n",
    "    valid_dataset,\n",
    "    batch_size=10,\n",
    "    shuffle=False,\n",
    "    num_workers=4,\n",
    "    collate_fn=collate_fn\n",
    ")"
   ]
  },
  {
   "cell_type": "code",
   "execution_count": null,
   "id": "f7e7ad0a",
   "metadata": {
    "papermill": {
     "duration": null,
     "end_time": null,
     "exception": null,
     "start_time": null,
     "status": "pending"
    },
    "tags": []
   },
   "outputs": [],
   "source": [
    "images, targets, image_ids = next(iter(train_data_loader))\n",
    "images = list(image.to(device) for image in images)\n",
    "targets = [{k: v.to(device) for k, v in t.items()} for t in targets]"
   ]
  },
  {
   "cell_type": "code",
   "execution_count": null,
   "id": "6f229c7e",
   "metadata": {
    "papermill": {
     "duration": null,
     "end_time": null,
     "exception": null,
     "start_time": null,
     "status": "pending"
    },
    "tags": []
   },
   "outputs": [],
   "source": [
    "targets"
   ]
  },
  {
   "cell_type": "code",
   "execution_count": null,
   "id": "fadcf831",
   "metadata": {
    "papermill": {
     "duration": null,
     "end_time": null,
     "exception": null,
     "start_time": null,
     "status": "pending"
    },
    "tags": []
   },
   "outputs": [],
   "source": [
    "boxes = targets[0]['boxes'].cpu().numpy().astype(np.int32)\n",
    "sample = images[0].permute(1,2,0).cpu().numpy()"
   ]
  },
  {
   "cell_type": "code",
   "execution_count": null,
   "id": "8651ce96",
   "metadata": {
    "papermill": {
     "duration": null,
     "end_time": null,
     "exception": null,
     "start_time": null,
     "status": "pending"
    },
    "tags": []
   },
   "outputs": [],
   "source": [
    "device = torch.device('cuda') if torch.cuda.is_available() else torch.device('cpu')"
   ]
  },
  {
   "cell_type": "code",
   "execution_count": null,
   "id": "16b69b61",
   "metadata": {
    "papermill": {
     "duration": null,
     "end_time": null,
     "exception": null,
     "start_time": null,
     "status": "pending"
    },
    "tags": []
   },
   "outputs": [],
   "source": [
    "print(device)"
   ]
  },
  {
   "cell_type": "code",
   "execution_count": null,
   "id": "b0aadee6",
   "metadata": {
    "papermill": {
     "duration": null,
     "end_time": null,
     "exception": null,
     "start_time": null,
     "status": "pending"
    },
    "tags": []
   },
   "outputs": [],
   "source": [
    "fig, ax = plt.subplots(1, 1, figsize=(16, 8))\n",
    "\n",
    "for box in boxes:\n",
    "    cv2.rectangle(sample,\n",
    "                  (box[0], box[1]),\n",
    "                  (box[2], box[3]),\n",
    "                  (220, 0, 0), 3)\n",
    "    \n",
    "ax.set_axis_off()\n",
    "ax.imshow(sample)"
   ]
  },
  {
   "cell_type": "code",
   "execution_count": null,
   "id": "fe656ff5",
   "metadata": {
    "papermill": {
     "duration": null,
     "end_time": null,
     "exception": null,
     "start_time": null,
     "status": "pending"
    },
    "tags": []
   },
   "outputs": [],
   "source": [
    "model.to(device)\n",
    "params = [p for p in model.parameters() if p.requires_grad]\n",
    "optimizer = torch.optim.SGD(params, lr=0.005, momentum=0.9, weight_decay=0.0005)\n",
    "# lr_scheduler = torch.optim.lr_scheduler.StepLR(optimizer, step_size=3, gamma=0.1)\n",
    "lr_scheduler = None\n",
    "\n",
    "num_epochs = 2"
   ]
  },
  {
   "cell_type": "code",
   "execution_count": null,
   "id": "3c6c80b4",
   "metadata": {
    "papermill": {
     "duration": null,
     "end_time": null,
     "exception": null,
     "start_time": null,
     "status": "pending"
    },
    "tags": []
   },
   "outputs": [],
   "source": [
    "loss_hist = Averager()\n",
    "itr = 1\n",
    "\n",
    "for epoch in range(num_epochs):\n",
    "    loss_hist.reset()\n",
    "    \n",
    "    for images, targets, image_ids in train_data_loader:\n",
    "        \n",
    "        images = list(image.to(device) for image in images)\n",
    "        targets = [{k: v.to(device) for k, v in t.items()} for t in targets]\n",
    "\n",
    "        loss_dict = model(images, targets)\n",
    "\n",
    "        losses = sum(loss for loss in loss_dict.values())\n",
    "        loss_value = losses.item()\n",
    "\n",
    "        loss_hist.send(loss_value)\n",
    "\n",
    "        optimizer.zero_grad()\n",
    "        losses.backward()\n",
    "        optimizer.step()\n",
    "\n",
    "        if itr % 50 == 0:\n",
    "            print(f\"Iteration #{itr} loss: {loss_value}\")\n",
    "\n",
    "        itr += 1\n",
    "    \n",
    "    # update the learning rate\n",
    "    if lr_scheduler is not None:\n",
    "        lr_scheduler.step()\n",
    "\n",
    "    print(f\"Epoch #{epoch} loss: {loss_hist.value}\") "
   ]
  },
  {
   "cell_type": "code",
   "execution_count": null,
   "id": "1a078c38",
   "metadata": {
    "papermill": {
     "duration": null,
     "end_time": null,
     "exception": null,
     "start_time": null,
     "status": "pending"
    },
    "tags": []
   },
   "outputs": [],
   "source": [
    "images, targets, image_ids = next(iter(valid_data_loader))"
   ]
  },
  {
   "cell_type": "code",
   "execution_count": null,
   "id": "a8190438",
   "metadata": {
    "papermill": {
     "duration": null,
     "end_time": null,
     "exception": null,
     "start_time": null,
     "status": "pending"
    },
    "tags": []
   },
   "outputs": [],
   "source": [
    "images"
   ]
  },
  {
   "cell_type": "code",
   "execution_count": null,
   "id": "93c00752",
   "metadata": {
    "papermill": {
     "duration": null,
     "end_time": null,
     "exception": null,
     "start_time": null,
     "status": "pending"
    },
    "tags": []
   },
   "outputs": [],
   "source": [
    "images = list(img.to(device) for img in images)\n",
    "targets = [{k: v.to(device) for k, v in t.items()} for t in targets]"
   ]
  },
  {
   "cell_type": "code",
   "execution_count": null,
   "id": "200b4216",
   "metadata": {
    "papermill": {
     "duration": null,
     "end_time": null,
     "exception": null,
     "start_time": null,
     "status": "pending"
    },
    "tags": []
   },
   "outputs": [],
   "source": [
    "boxes = outputs[1]['boxes'].cpu().numpy().astype(np.int32)\n",
    "sample = images[1].permute(1,2,0).cpu().numpy()"
   ]
  },
  {
   "cell_type": "code",
   "execution_count": null,
   "id": "6f65a0d1",
   "metadata": {
    "papermill": {
     "duration": null,
     "end_time": null,
     "exception": null,
     "start_time": null,
     "status": "pending"
    },
    "tags": []
   },
   "outputs": [],
   "source": [
    "model.eval()\n",
    "cpu_device = torch.device(\"cpu\")\n",
    "\n",
    "outputs = model(images)\n",
    "outputs = [{k: v.to(cpu_device) for k, v in t.items()} for t in outputs]"
   ]
  },
  {
   "cell_type": "code",
   "execution_count": null,
   "id": "635e658c",
   "metadata": {
    "papermill": {
     "duration": null,
     "end_time": null,
     "exception": null,
     "start_time": null,
     "status": "pending"
    },
    "tags": []
   },
   "outputs": [],
   "source": []
  },
  {
   "cell_type": "code",
   "execution_count": null,
   "id": "519393ee",
   "metadata": {
    "papermill": {
     "duration": null,
     "end_time": null,
     "exception": null,
     "start_time": null,
     "status": "pending"
    },
    "tags": []
   },
   "outputs": [],
   "source": [
    "sample"
   ]
  },
  {
   "cell_type": "code",
   "execution_count": null,
   "id": "34fee2a7",
   "metadata": {
    "papermill": {
     "duration": null,
     "end_time": null,
     "exception": null,
     "start_time": null,
     "status": "pending"
    },
    "tags": []
   },
   "outputs": [],
   "source": [
    "fig, ax = plt.subplots(1, 1, figsize=(16, 8))\n",
    "\n",
    "for box in boxes:\n",
    "    cv2.rectangle(sample,\n",
    "                  (box[0], box[1]),\n",
    "                  (box[2], box[3]),\n",
    "                  (220, 0, 0), 3)\n",
    "    \n",
    "ax.set_axis_off()\n",
    "ax.imshow(sample)"
   ]
  },
  {
   "cell_type": "code",
   "execution_count": null,
   "id": "036c5700",
   "metadata": {
    "papermill": {
     "duration": null,
     "end_time": null,
     "exception": null,
     "start_time": null,
     "status": "pending"
    },
    "tags": []
   },
   "outputs": [],
   "source": [
    "torch.save(model.state_dict(), 'fasterrcnn_resnet50_fpn.pth')"
   ]
  },
  {
   "cell_type": "code",
   "execution_count": null,
   "id": "02e322d6",
   "metadata": {
    "execution": {
     "iopub.execute_input": "2023-04-21T10:51:42.695515Z",
     "iopub.status.busy": "2023-04-21T10:51:42.694393Z",
     "iopub.status.idle": "2023-04-21T10:51:44.383828Z",
     "shell.execute_reply": "2023-04-21T10:51:44.382724Z",
     "shell.execute_reply.started": "2023-04-21T10:51:42.695465Z"
    },
    "papermill": {
     "duration": null,
     "end_time": null,
     "exception": null,
     "start_time": null,
     "status": "pending"
    },
    "tags": []
   },
   "outputs": [],
   "source": [
    "import pandas as pd\n",
    "import numpy as np\n",
    "import cv2\n",
    "import os\n",
    "import re\n",
    "\n",
    "from PIL import Image\n",
    "\n",
    "import albumentations as A\n",
    "from albumentations.pytorch.transforms import ToTensorV2\n",
    "\n",
    "import torch\n",
    "import torchvision\n",
    "\n",
    "from torchvision.models.detection.faster_rcnn import FastRCNNPredictor\n",
    "from torchvision.models.detection import FasterRCNN\n",
    "from torchvision.models.detection.rpn import AnchorGenerator\n",
    "\n",
    "from torch.utils.data import DataLoader, Dataset\n",
    "from torch.utils.data.sampler import SequentialSampler\n",
    "\n",
    "from matplotlib import pyplot as plt\n",
    "\n",
    "# DIR_INPUT = '/kaggle/input/global-wheat-detection'\n",
    "# DIR_TRAIN = f'{DIR_INPUT}/train'\n",
    "# DIR_TEST = f'{DIR_INPUT}/test'\n",
    "\n",
    "WEIGHTS_FILE = '/kaggle/working/fasterrcnn_resnet50_fpn.pth'"
   ]
  },
  {
   "cell_type": "code",
   "execution_count": null,
   "id": "6e77b83f",
   "metadata": {
    "execution": {
     "iopub.execute_input": "2023-04-21T10:51:47.873013Z",
     "iopub.status.busy": "2023-04-21T10:51:47.871771Z",
     "iopub.status.idle": "2023-04-21T10:51:50.635927Z",
     "shell.execute_reply": "2023-04-21T10:51:50.634816Z",
     "shell.execute_reply.started": "2023-04-21T10:51:47.872962Z"
    },
    "papermill": {
     "duration": null,
     "end_time": null,
     "exception": null,
     "start_time": null,
     "status": "pending"
    },
    "tags": []
   },
   "outputs": [],
   "source": [
    "import numpy as np \n",
    "import pandas as pd\n",
    "import tensorflow as tf\n",
    "import os\n",
    "import matplotlib.pyplot as plt\n",
    "from PIL import Image, ImageDraw, ImageEnhance\n",
    "import albumentations as albu\n",
    "from tqdm.notebook import tqdm"
   ]
  },
  {
   "cell_type": "code",
   "execution_count": null,
   "id": "66033fdf",
   "metadata": {
    "execution": {
     "iopub.execute_input": "2023-04-21T11:21:36.504206Z",
     "iopub.status.busy": "2023-04-21T11:21:36.503448Z",
     "iopub.status.idle": "2023-04-21T11:21:36.516752Z",
     "shell.execute_reply": "2023-04-21T11:21:36.515614Z",
     "shell.execute_reply.started": "2023-04-21T11:21:36.504165Z"
    },
    "papermill": {
     "duration": null,
     "end_time": null,
     "exception": null,
     "start_time": null,
     "status": "pending"
    },
    "tags": []
   },
   "outputs": [],
   "source": [
    "import cv2\n",
    "import os\n",
    "import pandas as pd\n",
    "\n",
    "# Define the folder path containing the videos\n",
    "folder_path = '/kaggle/input/samplepesu/Test_data_images'\n",
    "\n",
    "# Get a list of all video files in the folder\n",
    "test_files = [os.path.join(folder_path, f) for f in os.listdir(folder_path) if f.endswith('.jpeg')]\n",
    "\n",
    "\n",
    "names=[]\n",
    "for x in test_files:\n",
    "    names.append(x.split(\"/\")[5])\n",
    "\n",
    "names.sort()\n",
    "names=[]\n",
    "for i in range(1,101):\n",
    "    names.append(str(str(i)+\".jpeg\"))\n",
    "\n",
    "names.remove('23.jpeg')\n",
    "names.remove('27.jpeg')\n",
    "names.remove('29.jpeg')\n",
    "names.remove('67.jpeg')\n",
    "dic={\"Test_image\":names,\"Prediction_String\":[\"\" for i in range(0,96)]}\n",
    "df=pd.DataFrame(dic)\n",
    "df.to_csv(\"test_csv.csv\",index=False)"
   ]
  },
  {
   "cell_type": "code",
   "execution_count": null,
   "id": "26a5e542",
   "metadata": {
    "execution": {
     "iopub.execute_input": "2023-04-21T11:21:40.384542Z",
     "iopub.status.busy": "2023-04-21T11:21:40.384163Z",
     "iopub.status.idle": "2023-04-21T11:21:40.390005Z",
     "shell.execute_reply": "2023-04-21T11:21:40.388478Z",
     "shell.execute_reply.started": "2023-04-21T11:21:40.384507Z"
    },
    "papermill": {
     "duration": null,
     "end_time": null,
     "exception": null,
     "start_time": null,
     "status": "pending"
    },
    "tags": []
   },
   "outputs": [],
   "source": [
    "test_df=df"
   ]
  },
  {
   "cell_type": "code",
   "execution_count": null,
   "id": "6974f87e",
   "metadata": {
    "execution": {
     "iopub.execute_input": "2023-04-21T11:21:43.472599Z",
     "iopub.status.busy": "2023-04-21T11:21:43.472055Z",
     "iopub.status.idle": "2023-04-21T11:21:43.486586Z",
     "shell.execute_reply": "2023-04-21T11:21:43.485417Z",
     "shell.execute_reply.started": "2023-04-21T11:21:43.472539Z"
    },
    "papermill": {
     "duration": null,
     "end_time": null,
     "exception": null,
     "start_time": null,
     "status": "pending"
    },
    "tags": []
   },
   "outputs": [],
   "source": [
    "test_df"
   ]
  },
  {
   "cell_type": "code",
   "execution_count": null,
   "id": "a2805768",
   "metadata": {
    "execution": {
     "iopub.execute_input": "2023-04-21T11:21:49.136846Z",
     "iopub.status.busy": "2023-04-21T11:21:49.135589Z",
     "iopub.status.idle": "2023-04-21T11:21:49.145954Z",
     "shell.execute_reply": "2023-04-21T11:21:49.144812Z",
     "shell.execute_reply.started": "2023-04-21T11:21:49.136784Z"
    },
    "papermill": {
     "duration": null,
     "end_time": null,
     "exception": null,
     "start_time": null,
     "status": "pending"
    },
    "tags": []
   },
   "outputs": [],
   "source": [
    "class CustomSetData(Dataset):\n",
    "\n",
    "    def __init__(self, dataframe, image_dir, transforms=None):\n",
    "        super().__init__()\n",
    "\n",
    "        self.image_ids = dataframe['Test_image'].unique()\n",
    "        self.df = dataframe\n",
    "        self.image_dir = image_dir\n",
    "        self.transforms = transforms\n",
    "\n",
    "    def __getitem__(self, index: int):\n",
    "\n",
    "        image_id = self.image_ids[index]\n",
    "        records = self.df[self.df['Test_image'] == image_id]\n",
    "\n",
    "        image = cv2.imread(f'{self.image_dir}/{image_id}', cv2.IMREAD_COLOR)\n",
    "        image = cv2.cvtColor(image, cv2.COLOR_BGR2RGB).astype(np.float32)\n",
    "        image /= 255.0\n",
    "\n",
    "        if self.transforms:\n",
    "            sample = {\n",
    "                'image': image,\n",
    "            }\n",
    "            sample = self.transforms(**sample)\n",
    "            image = sample['image']\n",
    "\n",
    "        return image, image_id\n",
    "\n",
    "    def __len__(self) -> int:\n",
    "        return self.image_ids.shape[0]"
   ]
  },
  {
   "cell_type": "code",
   "execution_count": null,
   "id": "af5188da",
   "metadata": {
    "execution": {
     "iopub.execute_input": "2023-04-21T11:21:49.429212Z",
     "iopub.status.busy": "2023-04-21T11:21:49.428332Z",
     "iopub.status.idle": "2023-04-21T11:21:49.435873Z",
     "shell.execute_reply": "2023-04-21T11:21:49.434725Z",
     "shell.execute_reply.started": "2023-04-21T11:21:49.429162Z"
    },
    "papermill": {
     "duration": null,
     "end_time": null,
     "exception": null,
     "start_time": null,
     "status": "pending"
    },
    "tags": []
   },
   "outputs": [],
   "source": [
    "# Albumentations\n",
    "def get_test_transform():\n",
    "    return A.Compose([\n",
    "        # A.Resize(512, 512),\n",
    "        ToTensorV2(p=1.0)\n",
    "    ])"
   ]
  },
  {
   "cell_type": "code",
   "execution_count": null,
   "id": "482b25f9",
   "metadata": {
    "execution": {
     "iopub.execute_input": "2023-04-21T11:21:49.874344Z",
     "iopub.status.busy": "2023-04-21T11:21:49.873978Z",
     "iopub.status.idle": "2023-04-21T11:21:50.444223Z",
     "shell.execute_reply": "2023-04-21T11:21:50.443152Z",
     "shell.execute_reply.started": "2023-04-21T11:21:49.874310Z"
    },
    "papermill": {
     "duration": null,
     "end_time": null,
     "exception": null,
     "start_time": null,
     "status": "pending"
    },
    "tags": []
   },
   "outputs": [],
   "source": [
    "# load a model; pre-trained on COCO\n",
    "model = torchvision.models.detection.fasterrcnn_resnet50_fpn(pretrained=False, pretrained_backbone=False)"
   ]
  },
  {
   "cell_type": "code",
   "execution_count": null,
   "id": "6001c80d",
   "metadata": {
    "execution": {
     "iopub.execute_input": "2023-04-21T11:21:50.455614Z",
     "iopub.status.busy": "2023-04-21T11:21:50.455279Z",
     "iopub.status.idle": "2023-04-21T11:21:50.768699Z",
     "shell.execute_reply": "2023-04-21T11:21:50.767613Z",
     "shell.execute_reply.started": "2023-04-21T11:21:50.455577Z"
    },
    "papermill": {
     "duration": null,
     "end_time": null,
     "exception": null,
     "start_time": null,
     "status": "pending"
    },
    "tags": []
   },
   "outputs": [],
   "source": [
    "device = torch.device('cuda') if torch.cuda.is_available() else torch.device('cpu')\n",
    "\n",
    "num_classes = 4 # 1 class (wheat) + background\n",
    "\n",
    "# get number of input features for the classifier\n",
    "in_features = model.roi_heads.box_predictor.cls_score.in_features\n",
    "\n",
    "# replace the pre-trained head with a new one\n",
    "model.roi_heads.box_predictor = FastRCNNPredictor(in_features, num_classes)\n",
    "\n",
    "# Load the trained weights\n",
    "model.load_state_dict(torch.load(\"/kaggle/working/fasterrcnn_resnet50_fpn.pth\"))\n",
    "model.eval()\n",
    "\n",
    "x = model.to(device)"
   ]
  },
  {
   "cell_type": "code",
   "execution_count": null,
   "id": "4d765b54",
   "metadata": {
    "execution": {
     "iopub.execute_input": "2023-04-21T11:21:51.374875Z",
     "iopub.status.busy": "2023-04-21T11:21:51.373673Z",
     "iopub.status.idle": "2023-04-21T11:21:51.382847Z",
     "shell.execute_reply": "2023-04-21T11:21:51.381304Z",
     "shell.execute_reply.started": "2023-04-21T11:21:51.374825Z"
    },
    "papermill": {
     "duration": null,
     "end_time": null,
     "exception": null,
     "start_time": null,
     "status": "pending"
    },
    "tags": []
   },
   "outputs": [],
   "source": [
    "def collate_fn(batch):\n",
    "    return tuple(zip(*batch))\n",
    "\n",
    "test_dataset = WheatTestDataset(test_df, \"/kaggle/input/samplepesu/Test_data_images\", get_test_transform())\n",
    "\n",
    "test_data_loader = DataLoader(\n",
    "    test_dataset,\n",
    "    batch_size=2,\n",
    "    shuffle=False,\n",
    "    num_workers=4,\n",
    "    drop_last=False,\n",
    "    collate_fn=collate_fn\n",
    ")"
   ]
  },
  {
   "cell_type": "code",
   "execution_count": null,
   "id": "4bc5afe4",
   "metadata": {
    "execution": {
     "iopub.execute_input": "2023-04-21T11:44:46.825472Z",
     "iopub.status.busy": "2023-04-21T11:44:46.825070Z",
     "iopub.status.idle": "2023-04-21T11:44:46.833121Z",
     "shell.execute_reply": "2023-04-21T11:44:46.831872Z",
     "shell.execute_reply.started": "2023-04-21T11:44:46.825438Z"
    },
    "papermill": {
     "duration": null,
     "end_time": null,
     "exception": null,
     "start_time": null,
     "status": "pending"
    },
    "tags": []
   },
   "outputs": [],
   "source": [
    "def format_prediction_string(boxes, scores,labels):\n",
    "    pred_strings = []\n",
    "    for j in zip(scores, boxes):\n",
    "        pred_strings.append(\"{0:.4f} {1} {2} {3} {4} {5}\".format(j[0], j[1][0], j[1][1], j[1][2], j[1][3],labels[0]))\n",
    "\n",
    "    return \" \".join(pred_strings)"
   ]
  },
  {
   "cell_type": "code",
   "execution_count": null,
   "id": "e83891c9",
   "metadata": {
    "execution": {
     "iopub.execute_input": "2023-04-21T11:44:52.139242Z",
     "iopub.status.busy": "2023-04-21T11:44:52.138224Z",
     "iopub.status.idle": "2023-04-21T11:44:53.274636Z",
     "shell.execute_reply": "2023-04-21T11:44:53.272411Z",
     "shell.execute_reply.started": "2023-04-21T11:44:52.139198Z"
    },
    "papermill": {
     "duration": null,
     "end_time": null,
     "exception": null,
     "start_time": null,
     "status": "pending"
    },
    "tags": []
   },
   "outputs": [],
   "source": [
    "detection_threshold = 0.5\n",
    "results = []\n",
    "\n",
    "for images, image_ids in test_data_loader:\n",
    "\n",
    "    images = list(image.to(device) for image in images)\n",
    "    outputs = model(images)\n",
    "\n",
    "\n",
    "    for i, image in enumerate(images):\n",
    "\n",
    "        boxes = outputs[i]['boxes'].data.cpu().numpy()\n",
    "        scores = outputs[i]['scores'].data.cpu().numpy()\n",
    "        labels=outputs[i]['labels'].data.cpu().numpy()\n",
    "        \n",
    "        boxes = boxes[scores >= detection_threshold].astype(np.int32)\n",
    "        scores = scores[scores >= detection_threshold]\n",
    "        image_id = image_ids[i]\n",
    "        \n",
    "        boxes[:, 2] = boxes[:, 2] - boxes[:, 0]\n",
    "        boxes[:, 3] = boxes[:, 3] - boxes[:, 1]\n",
    "        \n",
    "        result = {\n",
    "            'image_id': image_id,\n",
    "            'PredictionString': format_prediction_string(labels,boxes, scores)\n",
    "        }\n",
    "\n",
    "        \n",
    "        results.append(result)"
   ]
  },
  {
   "cell_type": "code",
   "execution_count": null,
   "id": "1891a4c0",
   "metadata": {
    "execution": {
     "iopub.execute_input": "2023-04-21T11:21:59.877239Z",
     "iopub.status.busy": "2023-04-21T11:21:59.876184Z",
     "iopub.status.idle": "2023-04-21T11:21:59.892813Z",
     "shell.execute_reply": "2023-04-21T11:21:59.891803Z",
     "shell.execute_reply.started": "2023-04-21T11:21:59.877194Z"
    },
    "papermill": {
     "duration": null,
     "end_time": null,
     "exception": null,
     "start_time": null,
     "status": "pending"
    },
    "tags": []
   },
   "outputs": [],
   "source": [
    "test_df = pd.DataFrame(results, columns=['image_id', 'PredictionString'])\n",
    "test_df.head(96)"
   ]
  },
  {
   "cell_type": "code",
   "execution_count": null,
   "id": "a9f1eec1",
   "metadata": {
    "execution": {
     "iopub.execute_input": "2023-04-21T11:37:23.601988Z",
     "iopub.status.busy": "2023-04-21T11:37:23.601587Z",
     "iopub.status.idle": "2023-04-21T11:37:23.610141Z",
     "shell.execute_reply": "2023-04-21T11:37:23.608781Z",
     "shell.execute_reply.started": "2023-04-21T11:37:23.601951Z"
    },
    "papermill": {
     "duration": null,
     "end_time": null,
     "exception": null,
     "start_time": null,
     "status": "pending"
    },
    "tags": []
   },
   "outputs": [],
   "source": [
    "print(outputs[1]['labels'].data.cpu().numpy())"
   ]
  },
  {
   "cell_type": "code",
   "execution_count": null,
   "id": "6fc5f5e5",
   "metadata": {
    "execution": {
     "iopub.execute_input": "2023-04-21T11:22:12.079338Z",
     "iopub.status.busy": "2023-04-21T11:22:12.078924Z",
     "iopub.status.idle": "2023-04-21T11:22:12.087493Z",
     "shell.execute_reply": "2023-04-21T11:22:12.086260Z",
     "shell.execute_reply.started": "2023-04-21T11:22:12.079306Z"
    },
    "papermill": {
     "duration": null,
     "end_time": null,
     "exception": null,
     "start_time": null,
     "status": "pending"
    },
    "tags": []
   },
   "outputs": [],
   "source": [
    "test_df.to_csv(\"test_csv.csv\")"
   ]
  },
  {
   "cell_type": "code",
   "execution_count": null,
   "id": "341d944f",
   "metadata": {
    "execution": {
     "iopub.execute_input": "2023-04-21T11:22:12.523176Z",
     "iopub.status.busy": "2023-04-21T11:22:12.522465Z",
     "iopub.status.idle": "2023-04-21T11:22:12.533455Z",
     "shell.execute_reply": "2023-04-21T11:22:12.532335Z",
     "shell.execute_reply.started": "2023-04-21T11:22:12.523139Z"
    },
    "papermill": {
     "duration": null,
     "end_time": null,
     "exception": null,
     "start_time": null,
     "status": "pending"
    },
    "tags": []
   },
   "outputs": [],
   "source": [
    "sample = images[1].permute(1,2,0).cpu().numpy()\n",
    "boxes = outputs[1]['boxes'].data.cpu().numpy()\n",
    "scores = outputs[1]['scores'].data.cpu().numpy()\n",
    "\n",
    "boxes = boxes[scores >= detection_threshold].astype(np.int32)"
   ]
  },
  {
   "cell_type": "code",
   "execution_count": null,
   "id": "3a1a578d",
   "metadata": {
    "execution": {
     "iopub.execute_input": "2023-04-21T11:22:20.861342Z",
     "iopub.status.busy": "2023-04-21T11:22:20.860966Z",
     "iopub.status.idle": "2023-04-21T11:22:21.242073Z",
     "shell.execute_reply": "2023-04-21T11:22:21.241032Z",
     "shell.execute_reply.started": "2023-04-21T11:22:20.861302Z"
    },
    "papermill": {
     "duration": null,
     "end_time": null,
     "exception": null,
     "start_time": null,
     "status": "pending"
    },
    "tags": []
   },
   "outputs": [],
   "source": [
    "fig, ax = plt.subplots(1, 1, figsize=(16, 8))\n",
    "\n",
    "for box in boxes:\n",
    "    cv2.rectangle(sample,\n",
    "                  (box[0], box[1]),\n",
    "                  (box[2], box[3]),\n",
    "                  (220, 0, 0), 2)\n",
    "    \n",
    "ax.set_axis_off()\n",
    "ax.imshow(sample)"
   ]
  },
  {
   "cell_type": "code",
   "execution_count": null,
   "id": "4fb2fb59",
   "metadata": {
    "papermill": {
     "duration": null,
     "end_time": null,
     "exception": null,
     "start_time": null,
     "status": "pending"
    },
    "tags": []
   },
   "outputs": [],
   "source": []
  },
  {
   "cell_type": "code",
   "execution_count": null,
   "id": "4aa6d8db",
   "metadata": {
    "papermill": {
     "duration": null,
     "end_time": null,
     "exception": null,
     "start_time": null,
     "status": "pending"
    },
    "tags": []
   },
   "outputs": [],
   "source": []
  }
 ],
 "metadata": {
  "kernelspec": {
   "display_name": "Python 3",
   "language": "python",
   "name": "python3"
  },
  "language_info": {
   "codemirror_mode": {
    "name": "ipython",
    "version": 3
   },
   "file_extension": ".py",
   "mimetype": "text/x-python",
   "name": "python",
   "nbconvert_exporter": "python",
   "pygments_lexer": "ipython3",
   "version": "3.7.12"
  },
  "papermill": {
   "default_parameters": {},
   "duration": 59.342417,
   "end_time": "2023-04-21T14:28:26.046678",
   "environment_variables": {},
   "exception": true,
   "input_path": "__notebook__.ipynb",
   "output_path": "__notebook__.ipynb",
   "parameters": {},
   "start_time": "2023-04-21T14:27:26.704261",
   "version": "2.4.0"
  }
 },
 "nbformat": 4,
 "nbformat_minor": 5
}
